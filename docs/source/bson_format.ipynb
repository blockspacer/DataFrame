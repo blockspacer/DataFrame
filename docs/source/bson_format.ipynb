{
 "cells": [
  {
   "cell_type": "markdown",
   "metadata": {},
   "source": [
    "# DataFrame Serialization with BSON Format\n",
    "\n",
    "The library specify and implement (in C++ and Python) a BSON based serialization for DataFrame data. The format is inspired by the data format of [Arctic](https://github.com/manahl/arctic>), in particular its TickStore. However, the format covers considerably more data types, inspired by the [Arrow](https://arrow.apache.org) project.\n",
    "\n",
    "The the specification of has some similarity to that of Arrow, it is independent and has some notable differences.\n",
    "\n",
    "The Python package `bson_dataframe` provides integration with [pyarrow](https://arrow.apache.org/docs/python/).\n",
    "\n",
    "Below we detail the specification of the format, with code example of how to implement a minimal encoder/decoder for different data types. Note that the implementation here for brevity does not cover all corner cases."
   ]
  },
  {
   "cell_type": "code",
   "execution_count": 1,
   "metadata": {},
   "outputs": [],
   "source": [
    "import abc\n",
    "import bson\n",
    "import bson.json_util\n",
    "import lz4.block\n",
    "import numpy"
   ]
  },
  {
   "cell_type": "markdown",
   "metadata": {},
   "source": [
    "## Schema\n",
    "\n",
    "Each array is encoded into a BSON document. There are five possible keys at top level.\n",
    "\n",
    "The `DATA` field contains the encoded data of the array"
   ]
  },
  {
   "cell_type": "code",
   "execution_count": 2,
   "metadata": {},
   "outputs": [],
   "source": [
    "DATA = 'd'"
   ]
  },
  {
   "cell_type": "markdown",
   "metadata": {},
   "source": [
    "The `MASK` field contains the encoded data of mask of the array. Each slot corresponds to an element in the array data."
   ]
  },
  {
   "cell_type": "code",
   "execution_count": 3,
   "metadata": {},
   "outputs": [],
   "source": [
    "MASK = 'm'"
   ]
  },
  {
   "cell_type": "markdown",
   "metadata": {},
   "source": [
    "The `TYPE` field contains the type name of the array"
   ]
  },
  {
   "cell_type": "code",
   "execution_count": 4,
   "metadata": {},
   "outputs": [],
   "source": [
    "TYPE = 't'"
   ]
  },
  {
   "cell_type": "markdown",
   "metadata": {},
   "source": [
    "The optional `PARAM` field contains possible additional informations of the type when the type is a parametric type."
   ]
  },
  {
   "cell_type": "code",
   "execution_count": 5,
   "metadata": {},
   "outputs": [],
   "source": [
    "PARAM = 'p'"
   ]
  },
  {
   "cell_type": "markdown",
   "metadata": {},
   "source": [
    "The `OFFSET` field contains offset dat of the array when the array has variable length elements."
   ]
  },
  {
   "cell_type": "code",
   "execution_count": 6,
   "metadata": {},
   "outputs": [],
   "source": [
    "OFFSET = 'o'"
   ]
  },
  {
   "cell_type": "markdown",
   "metadata": {},
   "source": [
    "There are a few sub field which may appears within `DATA` or `PARAM`."
   ]
  },
  {
   "cell_type": "code",
   "execution_count": 7,
   "metadata": {},
   "outputs": [],
   "source": [
    "LENGTH = 'l'\n",
    "NAME = 'n'\n",
    "FIELDS = 'f'\n",
    "INDEX = 'i'\n",
    "DICT = 'd'"
   ]
  },
  {
   "cell_type": "markdown",
   "metadata": {},
   "source": [
    "## Compression"
   ]
  },
  {
   "cell_type": "markdown",
   "metadata": {},
   "source": [
    "All raw buffers are compressed with [LZ4](http://www.lz4.org) block format. Below we define functions that compress and decompress the buffers."
   ]
  },
  {
   "cell_type": "code",
   "execution_count": 8,
   "metadata": {},
   "outputs": [],
   "source": [
    "def compress(data) -> bson.Binary:\n",
    "    '''\n",
    "    Compress a buffer to BSON binary. If the input is numpy ndarray, its raw bytes are compressed.\n",
    "    '''\n",
    "\n",
    "    if isinstance(data, numpy.ndarray):\n",
    "        data = data.tobytes()\n",
    "\n",
    "    return bson.Binary(lz4.block.compress(data))"
   ]
  },
  {
   "cell_type": "code",
   "execution_count": 9,
   "metadata": {},
   "outputs": [],
   "source": [
    "def decompress(data, dtype=None):\n",
    "    '''\n",
    "    Decompress a buffer to bytes. If dtype is given and not None, then a numpy ndarray with the given dtype is returned.\n",
    "    '''\n",
    "\n",
    "    buf = lz4.block.decompress(data)\n",
    "\n",
    "    if dtype is None:\n",
    "        return buf\n",
    "\n",
    "    wid = numpy.dtype(dtype).itemsize\n",
    "    assert len(buf) % wid == 0\n",
    "\n",
    "    return numpy.ndarray(len(buf) // wid, dtype, buf)"
   ]
  },
  {
   "cell_type": "markdown",
   "metadata": {},
   "source": [
    "## Mask"
   ]
  },
  {
   "cell_type": "markdown",
   "metadata": {},
   "source": [
    "Arrays may be masked to indicate positions of missings values. When encoded, a mask is packed bits with MSB order."
   ]
  },
  {
   "cell_type": "code",
   "execution_count": 10,
   "metadata": {},
   "outputs": [],
   "source": [
    "def encode_mask(data):\n",
    "    return compress(numpy.packbits(data))"
   ]
  },
  {
   "cell_type": "code",
   "execution_count": 11,
   "metadata": {},
   "outputs": [],
   "source": [
    "def decode_mask(data, length):\n",
    "    return numpy.unpackbits(decompress(data, numpy.uint8)).astype(bool)[:length]"
   ]
  },
  {
   "cell_type": "markdown",
   "metadata": {},
   "source": [
    "## Offsets"
   ]
  },
  {
   "cell_type": "code",
   "execution_count": 12,
   "metadata": {},
   "outputs": [],
   "source": [
    "def encode_offsets(data):\n",
    "    return compress(numpy.array([0] + [len(v) for v in data], 'int32'))"
   ]
  },
  {
   "cell_type": "code",
   "execution_count": 13,
   "metadata": {},
   "outputs": [],
   "source": [
    "def decode_offsets(data, offsets):\n",
    "    counts = decompress(offsets, 'int32')\n",
    "    offsets = numpy.cumsum(counts)\n",
    "    return [data[offsets[i]:offsets[i + 1]] for i in range(len(counts) - 1)]"
   ]
  },
  {
   "cell_type": "markdown",
   "metadata": {},
   "source": [
    "## Document Structure"
   ]
  },
  {
   "cell_type": "code",
   "execution_count": 14,
   "metadata": {},
   "outputs": [],
   "source": [
    "class DataType(object):\n",
    "    name = None\n",
    "    has_param = False\n",
    "    has_offsets = False\n",
    "        \n",
    "    def __str__(self):\n",
    "        return self.name\n",
    "    \n",
    "    def to_numpy(self):\n",
    "        return self.name\n",
    "    \n",
    "    def encode_type(self):\n",
    "        doc = {}\n",
    "        doc[TYPE] = self.name\n",
    "        \n",
    "        if self.has_param:\n",
    "            doc[PARAM] = self.encode_param()\n",
    "            \n",
    "        return doc\n",
    "    \n",
    "    @staticmethod\n",
    "    def decode_type(doc):\n",
    "        typename = doc[TYPE]\n",
    "        pos = typename.find('[')\n",
    "\n",
    "        if pos < 0:\n",
    "            dtype = globals()[typename.title()]()\n",
    "        else: # hack for timestamp[ms] etc\n",
    "            init = typename[pos + 1:-1]\n",
    "            typename = typename[:pos]\n",
    "            dtype = globals()[typename.title()](init)\n",
    "\n",
    "        if PARAM in doc:\n",
    "            dtype.decode_param(doc[PARAM])\n",
    "\n",
    "        return dtype\n",
    "\n",
    "    def encode_array(self, data, mask):\n",
    "        doc = {}\n",
    "        doc[DATA] = self.encode_data(data)\n",
    "        doc[MASK] = encode_mask(mask)\n",
    "        doc.update(self.encode_type())\n",
    "        if self.has_offsets:\n",
    "            doc[OFFSET] = encode_offsets(data)\n",
    "\n",
    "        return doc\n",
    "\n",
    "    def decode_array(self, doc):\n",
    "        if PARAM in doc:\n",
    "            self.decode_param(doc[PARAM])\n",
    "\n",
    "        data = self.decode_data(doc[DATA])\n",
    "    \n",
    "        if OFFSET in doc:\n",
    "            data = decode_offsets(data, doc[OFFSET])\n",
    "    \n",
    "        mask = decode_mask(doc[MASK], len(data))\n",
    "    \n",
    "        return data, mask"
   ]
  },
  {
   "cell_type": "code",
   "execution_count": 15,
   "metadata": {},
   "outputs": [],
   "source": [
    "def test(dtype, data, mask):\n",
    "    '''\n",
    "    Test function display the orignal data, the encoded document (in Canonical JSON) and the decoded data\n",
    "\n",
    "    Args:\n",
    "        data: The data to be encoded\n",
    "        dtype: The target data type for the encoding\n",
    "        encode: The encoding function that take the data type, the data and a random mask as input, returns a dictionary of to be encoded via BSON\n",
    "        decode: The decoding function that take the dictionary returned by decode, and returns the data type, the data, and the mask\n",
    "        *args: passed to encode\n",
    "        **kwargs: passed to encode\n",
    "    '''\n",
    "    \n",
    "    print(f'''\n",
    "Orignal\n",
    "\n",
    "type: {dtype}\n",
    "data: {data}\n",
    "mask: {mask}\n",
    "''')\n",
    "\n",
    "    doc = dtype.encode_array(data, mask)\n",
    "    json_mode = bson.json_util.JSONMode.CANONICAL\n",
    "    json_options = bson.json_util.JSONOptions(json_mode=json_mode)\n",
    "    json_doc = bson.json_util.dumps(doc, json_options=json_options, indent=4)\n",
    "\n",
    "    print(f'''\n",
    "Encoded\n",
    "\n",
    "{json_doc}\n",
    "''')\n",
    "    \n",
    "    t = DataType.decode_type(doc)\n",
    "    d, m = t.decode_array(doc)\n",
    "\n",
    "    print(f'''\n",
    "Decoded\n",
    "\n",
    "type: {t}\n",
    "data: {d}\n",
    "mask: {m}\n",
    "''')"
   ]
  },
  {
   "cell_type": "markdown",
   "metadata": {},
   "source": [
    "## Primitive Array\n",
    "\n",
    "Primitve are arrays where its type information can be encoded by a single string"
   ]
  },
  {
   "cell_type": "markdown",
   "metadata": {},
   "source": [
    "### Null\n",
    "\n",
    "A `null` array is one with all values missing. The `DATA` is its length as 64-bit BSON integer. Its mask is always an array of `False` with the same length."
   ]
  },
  {
   "cell_type": "code",
   "execution_count": 16,
   "metadata": {},
   "outputs": [],
   "source": [
    "class Null(DataType):\n",
    "    name = 'null'\n",
    "    \n",
    "    def to_numpy(self):\n",
    "        return object\n",
    "        \n",
    "    def encode_data(self, data):\n",
    "        return bson.Int64(len(data))\n",
    "    \n",
    "    def decode_data(self, data):\n",
    "        return [None] * data"
   ]
  },
  {
   "cell_type": "code",
   "execution_count": 17,
   "metadata": {},
   "outputs": [
    {
     "name": "stdout",
     "output_type": "stream",
     "text": [
      "\n",
      "Orignal\n",
      "\n",
      "type: null\n",
      "data: [None, None, None]\n",
      "mask: [False, False, False]\n",
      "\n",
      "\n",
      "Encoded\n",
      "\n",
      "{\n",
      "    \"d\": {\n",
      "        \"$numberLong\": \"3\"\n",
      "    },\n",
      "    \"m\": {\n",
      "        \"$binary\": {\n",
      "            \"base64\": \"AQAAABAA\",\n",
      "            \"subType\": \"00\"\n",
      "        }\n",
      "    },\n",
      "    \"t\": \"null\"\n",
      "}\n",
      "\n",
      "\n",
      "Decoded\n",
      "\n",
      "type: null\n",
      "data: [None, None, None]\n",
      "mask: [False False False]\n",
      "\n"
     ]
    }
   ],
   "source": [
    "test(Null(), [None, None, None], [False, False, False])"
   ]
  },
  {
   "cell_type": "markdown",
   "metadata": {},
   "source": [
    "### Numeric\n",
    "\n",
    "Numeric arrays are encoded as-is. The `DATA` is its underlying bytes. All the standard numeric types are supported. Note that same as in numpy and different from Arrow, `bool` is a 1-byte type instead of packed bits."
   ]
  },
  {
   "cell_type": "code",
   "execution_count": 18,
   "metadata": {},
   "outputs": [],
   "source": [
    "def numeric_type(name):\n",
    "    clsname = name.title()\n",
    "   \n",
    "    def encode_data(self, data):\n",
    "        return compress(numpy.array(data, name))\n",
    "    \n",
    "    def decode_data(self, data):\n",
    "        return decompress(data, name)\n",
    "\n",
    "    return clsname, type(clsname, (DataType,), {\n",
    "        'name': name,\n",
    "        'encode_data': encode_data,\n",
    "        'decode_data': decode_data\n",
    "    })"
   ]
  },
  {
   "cell_type": "code",
   "execution_count": 19,
   "metadata": {},
   "outputs": [],
   "source": [
    "for dtype in ['bool', 'int8', 'int16', 'int32', 'int64', 'uint8', 'uint16', 'uint32', 'uint64', 'float16', 'float32', 'float64']:\n",
    "    clsname, typeclass = numeric_type(dtype)\n",
    "    globals()[clsname] = typeclass"
   ]
  },
  {
   "cell_type": "code",
   "execution_count": 20,
   "metadata": {},
   "outputs": [
    {
     "name": "stdout",
     "output_type": "stream",
     "text": [
      "\n",
      "Orignal\n",
      "\n",
      "type: int32\n",
      "data: [1, 2, 3]\n",
      "mask: [False, True, False]\n",
      "\n",
      "\n",
      "Encoded\n",
      "\n",
      "{\n",
      "    \"d\": {\n",
      "        \"$binary\": {\n",
      "            \"base64\": \"DAAAAMABAAAAAgAAAAMAAAA=\",\n",
      "            \"subType\": \"00\"\n",
      "        }\n",
      "    },\n",
      "    \"m\": {\n",
      "        \"$binary\": {\n",
      "            \"base64\": \"AQAAABBA\",\n",
      "            \"subType\": \"00\"\n",
      "        }\n",
      "    },\n",
      "    \"t\": \"int32\"\n",
      "}\n",
      "\n",
      "\n",
      "Decoded\n",
      "\n",
      "type: int32\n",
      "data: [1 2 3]\n",
      "mask: [False  True False]\n",
      "\n"
     ]
    }
   ],
   "source": [
    "test(Int32(), [1, 2, 3], [False, True, False])"
   ]
  },
  {
   "cell_type": "markdown",
   "metadata": {},
   "source": [
    "### Date\n",
    "\n",
    "Date array is similar to numeric types in that they also have flat memory layout. The values are the days or milliseconds from UNIX epoch. They differ in that they are difference encoded before compressed. This leads to better compression ratio for many often occurring data such as financial data. For random data there shall be no difference in compression ratio on average and the code of encoding and decoding the difference shall be minimal compared to that of memory allocation etc.\n",
    "\n",
    "For example, consider the following sequence of integers and the compressed size of the orignal and difference encoded data,"
   ]
  },
  {
   "cell_type": "code",
   "execution_count": 21,
   "metadata": {},
   "outputs": [
    {
     "data": {
      "text/plain": [
       "(4013, 34)"
      ]
     },
     "execution_count": 21,
     "metadata": {},
     "output_type": "execute_result"
    }
   ],
   "source": [
    "data = numpy.array(range(1000), 'int32')\n",
    "len(compress(data)), len(compress(numpy.diff(data, prepend=numpy.int32(0))))"
   ]
  },
  {
   "cell_type": "markdown",
   "metadata": {},
   "source": [
    "The later is more than 100 times smaller than compressing the original values. Here's is another example of random integers,"
   ]
  },
  {
   "cell_type": "code",
   "execution_count": 22,
   "metadata": {},
   "outputs": [
    {
     "data": {
      "text/plain": [
       "(3228, 3607)"
      ]
     },
     "execution_count": 22,
     "metadata": {},
     "output_type": "execute_result"
    }
   ],
   "source": [
    "data = numpy.random.randint(0, 1000, 1000, 'int32')\n",
    "len(compress(data)), len(compress(numpy.diff(data, prepend=numpy.int32(0))))"
   ]
  },
  {
   "cell_type": "markdown",
   "metadata": {},
   "source": [
    "The compressed size of the later is actually larger than the original. Depends on the data it may or may not be smaller or larger."
   ]
  },
  {
   "cell_type": "markdown",
   "metadata": {},
   "source": [
    "Date array can have two different unit and underlying integer type.\n",
    "\n",
    "The underlying integer type is 32 bits sigend integer for day unit and 64 bits integer for milliseconds unit."
   ]
  },
  {
   "cell_type": "code",
   "execution_count": 23,
   "metadata": {},
   "outputs": [],
   "source": [
    "class Date(DataType):\n",
    "    def __init__(self, unit):\n",
    "        self.unit = unit\n",
    "        self.name = f'date[{self.unit}]'\n",
    "\n",
    "    def _dtype(self):\n",
    "        if self.unit == 'd':\n",
    "            return 'int32'\n",
    "\n",
    "        if self.unit == 'ms':\n",
    "            return 'int64'\n",
    "    \n",
    "    def to_numpy(self):\n",
    "        if self.unit == 'd':\n",
    "            return 'datetime64[D]'\n",
    "        \n",
    "        if self.unit == 'ms':\n",
    "            return 'datetime64[ms]'\n",
    "\n",
    "    def encode_data(self, data):\n",
    "        dtype = self._dtype()\n",
    "        data = numpy.array(data, dtype)\n",
    "        values = numpy.diff(data, prepend=0).astype(dtype)\n",
    "\n",
    "        return compress(values)\n",
    "\n",
    "    def decode_data(self, data):\n",
    "        dtype = self._dtype()\n",
    "        values = decompress(data, dtype)\n",
    "\n",
    "        return numpy.cumsum(values).astype(self.to_numpy())"
   ]
  },
  {
   "cell_type": "code",
   "execution_count": 24,
   "metadata": {},
   "outputs": [
    {
     "name": "stdout",
     "output_type": "stream",
     "text": [
      "\n",
      "Orignal\n",
      "\n",
      "type: date[d]\n",
      "data: ['1970-01-01' '2000-01-01']\n",
      "mask: [True, False]\n",
      "\n",
      "\n",
      "Encoded\n",
      "\n",
      "{\n",
      "    \"d\": {\n",
      "        \"$binary\": {\n",
      "            \"base64\": \"CAAAAIAAAAAAzSoAAA==\",\n",
      "            \"subType\": \"00\"\n",
      "        }\n",
      "    },\n",
      "    \"m\": {\n",
      "        \"$binary\": {\n",
      "            \"base64\": \"AQAAABCA\",\n",
      "            \"subType\": \"00\"\n",
      "        }\n",
      "    },\n",
      "    \"t\": \"date[d]\"\n",
      "}\n",
      "\n",
      "\n",
      "Decoded\n",
      "\n",
      "type: date[d]\n",
      "data: ['1970-01-01' '2000-01-01']\n",
      "mask: [ True False]\n",
      "\n"
     ]
    }
   ],
   "source": [
    "test(Date('d'), numpy.array(['1970-01-01', '2000-01-01'], 'datetime64[D]'), [True, False])"
   ]
  },
  {
   "cell_type": "code",
   "execution_count": 25,
   "metadata": {},
   "outputs": [
    {
     "name": "stdout",
     "output_type": "stream",
     "text": [
      "\n",
      "Orignal\n",
      "\n",
      "type: date[ms]\n",
      "data: ['1970-01-01T00:00:00.000' '2000-01-01T01:02:03.040']\n",
      "mask: [True, False]\n",
      "\n",
      "\n",
      "Encoded\n",
      "\n",
      "{\n",
      "    \"d\": {\n",
      "        \"$binary\": {\n",
      "            \"base64\": \"EAAAABMAAQCAIHsIa9wAAAA=\",\n",
      "            \"subType\": \"00\"\n",
      "        }\n",
      "    },\n",
      "    \"m\": {\n",
      "        \"$binary\": {\n",
      "            \"base64\": \"AQAAABCA\",\n",
      "            \"subType\": \"00\"\n",
      "        }\n",
      "    },\n",
      "    \"t\": \"date[ms]\"\n",
      "}\n",
      "\n",
      "\n",
      "Decoded\n",
      "\n",
      "type: date[ms]\n",
      "data: ['1970-01-01T00:00:00.000' '2000-01-01T01:02:03.040']\n",
      "mask: [ True False]\n",
      "\n"
     ]
    }
   ],
   "source": [
    "test(Date('ms'), numpy.array(['1970-01-01', '2000-01-01T01:02:03.04'], 'datetime64[ms]'), [True, False])"
   ]
  },
  {
   "cell_type": "markdown",
   "metadata": {},
   "source": [
    "### Timestamp\n",
    "\n",
    "Timestamp array is encoded the same way as the date array, with the following difference,\n",
    "\n",
    "* The underlying numeric type is aways 64 bits integers\n",
    "* The unit may be one of second, millisecond, microsecond and nanosecond\n",
    "* The data type may have an optional string parameter to indicate its timezone\n",
    "\n",
    "It is equivalent to `numpy.datetime64` type"
   ]
  },
  {
   "cell_type": "code",
   "execution_count": 26,
   "metadata": {},
   "outputs": [],
   "source": [
    "class Timestamp(DataType):\n",
    "    def __init__(self, unit):\n",
    "        self.unit = unit\n",
    "        self.name = f'timestamp[{self.unit}]'\n",
    "        \n",
    "    def to_numpy(self):\n",
    "        return f'datetime64[{self.unit}]'\n",
    "\n",
    "    def encode_data(self, data):\n",
    "        dtype = 'int64'\n",
    "        data = numpy.array(data, dtype)\n",
    "        values = numpy.diff(data, prepend=0).astype(dtype)\n",
    "\n",
    "        return compress(values)\n",
    "\n",
    "    def decode_data(self, data):\n",
    "        dtype = 'int64'\n",
    "        values = decompress(data, dtype)\n",
    "\n",
    "        return numpy.cumsum(values).astype(self.to_numpy())"
   ]
  },
  {
   "cell_type": "code",
   "execution_count": 27,
   "metadata": {},
   "outputs": [
    {
     "name": "stdout",
     "output_type": "stream",
     "text": [
      "\n",
      "Orignal\n",
      "\n",
      "type: timestamp[ms]\n",
      "data: ['1970-01-01T00:00:00.000' '2000-01-01T01:02:03.040']\n",
      "mask: [True, False]\n",
      "\n",
      "\n",
      "Encoded\n",
      "\n",
      "{\n",
      "    \"d\": {\n",
      "        \"$binary\": {\n",
      "            \"base64\": \"EAAAABMAAQCAIHsIa9wAAAA=\",\n",
      "            \"subType\": \"00\"\n",
      "        }\n",
      "    },\n",
      "    \"m\": {\n",
      "        \"$binary\": {\n",
      "            \"base64\": \"AQAAABCA\",\n",
      "            \"subType\": \"00\"\n",
      "        }\n",
      "    },\n",
      "    \"t\": \"timestamp[ms]\"\n",
      "}\n",
      "\n",
      "\n",
      "Decoded\n",
      "\n",
      "type: timestamp[ms]\n",
      "data: ['1970-01-01T00:00:00.000' '2000-01-01T01:02:03.040']\n",
      "mask: [ True False]\n",
      "\n"
     ]
    }
   ],
   "source": [
    "test(Timestamp('ms'), numpy.array(['1970-01-01', '2000-01-01T01:02:03.04'], 'datetime64[ms]'), [True, False])"
   ]
  },
  {
   "cell_type": "markdown",
   "metadata": {},
   "source": [
    "### Time\n",
    "\n",
    "Time array is used to represent time of day and has the same unit choices as timestamp array. The encoding is the same as numeric types. The underlying integer type is 32 bits signed integers for second and millisecond units, and 64 bits integer for microsecond and nanosecond unit."
   ]
  },
  {
   "cell_type": "code",
   "execution_count": 28,
   "metadata": {},
   "outputs": [],
   "source": [
    "TIME_TYPES = {'time[s]': 'int32', 'time[ms]': 'int32', 'time[us]': 'int64', 'time[ns]': 'int64'}"
   ]
  },
  {
   "cell_type": "code",
   "execution_count": 29,
   "metadata": {},
   "outputs": [],
   "source": [
    "class Time(DataType):\n",
    "    def __init__(self, unit):\n",
    "        self.unit = unit\n",
    "        self.name = f'time[{self.unit}]'\n",
    "        \n",
    "    def to_numpy(self):\n",
    "        return f'timedelta64[{self.unit}]'\n",
    "\n",
    "    def _dtype(self):\n",
    "        if self.unit == 's':\n",
    "            return 'int32'\n",
    "\n",
    "        if self.unit == 'ms':\n",
    "            return 'int32'\n",
    "\n",
    "        if self.unit == 'us':\n",
    "            return 'int64'\n",
    "\n",
    "        if self.unit == 'ns':\n",
    "            return 'int64'\n",
    "\n",
    "    def encode_data(self, data):\n",
    "        return compress(numpy.array(data, self._dtype()))\n",
    "\n",
    "    def decode_data(self, data):\n",
    "        return decompress(data, self._dtype()).astype(self.to_numpy())"
   ]
  },
  {
   "cell_type": "code",
   "execution_count": 30,
   "metadata": {},
   "outputs": [
    {
     "name": "stdout",
     "output_type": "stream",
     "text": [
      "\n",
      "Orignal\n",
      "\n",
      "type: time[ms]\n",
      "data: [1 2 3]\n",
      "mask: [True, False, True]\n",
      "\n",
      "\n",
      "Encoded\n",
      "\n",
      "{\n",
      "    \"d\": {\n",
      "        \"$binary\": {\n",
      "            \"base64\": \"DAAAAMABAAAAAgAAAAMAAAA=\",\n",
      "            \"subType\": \"00\"\n",
      "        }\n",
      "    },\n",
      "    \"m\": {\n",
      "        \"$binary\": {\n",
      "            \"base64\": \"AQAAABCg\",\n",
      "            \"subType\": \"00\"\n",
      "        }\n",
      "    },\n",
      "    \"t\": \"time[ms]\"\n",
      "}\n",
      "\n",
      "\n",
      "Decoded\n",
      "\n",
      "type: time[ms]\n",
      "data: [1 2 3]\n",
      "mask: [ True False  True]\n",
      "\n"
     ]
    }
   ],
   "source": [
    "test(Time('ms'), numpy.array([1, 2, 3], 'timedelta64[ms]'), [True, False, True])"
   ]
  },
  {
   "cell_type": "markdown",
   "metadata": {},
   "source": [
    "## Binary Array\n",
    "\n",
    "Binary arrays have raw bytes as its elements. The length of each element may or may not be fixed."
   ]
  },
  {
   "cell_type": "markdown",
   "metadata": {},
   "source": [
    "### Opaque\n",
    "\n",
    "Opaque array has fixed length bytes as its element. It is encoded using the concatenated bytes and the length of each element."
   ]
  },
  {
   "cell_type": "code",
   "execution_count": 31,
   "metadata": {},
   "outputs": [],
   "source": [
    "class Opaque(DataType):\n",
    "    name = 'opaque'\n",
    "    has_param = True\n",
    "\n",
    "    def __init__(self, byte_width=0):\n",
    "        self.byte_width = byte_width\n",
    "\n",
    "    def __str__(self):\n",
    "        return f'opaque<{self.byte_width}>'\n",
    "\n",
    "    def to_numpy(self):\n",
    "        return f'|S{self.byte_width}'\n",
    "    \n",
    "    def encode_param(self):\n",
    "        return self.byte_width\n",
    "    \n",
    "    def decode_param(self, param):\n",
    "        self.byte_width = param\n",
    "        \n",
    "    def encode_data(self, data):\n",
    "        for v in data:\n",
    "            assert len(v) == self.byte_width\n",
    "\n",
    "        return compress(b''.join(data))\n",
    "\n",
    "    def decode_data(self, data):\n",
    "        return decompress(data, self.to_numpy())"
   ]
  },
  {
   "cell_type": "code",
   "execution_count": 32,
   "metadata": {},
   "outputs": [
    {
     "name": "stdout",
     "output_type": "stream",
     "text": [
      "\n",
      "Orignal\n",
      "\n",
      "type: opaque<3>\n",
      "data: [b'abc', b'def', b'ghi']\n",
      "mask: [True, False, True]\n",
      "\n",
      "\n",
      "Encoded\n",
      "\n",
      "{\n",
      "    \"d\": {\n",
      "        \"$binary\": {\n",
      "            \"base64\": \"CQAAAJBhYmNkZWZnaGk=\",\n",
      "            \"subType\": \"00\"\n",
      "        }\n",
      "    },\n",
      "    \"m\": {\n",
      "        \"$binary\": {\n",
      "            \"base64\": \"AQAAABCg\",\n",
      "            \"subType\": \"00\"\n",
      "        }\n",
      "    },\n",
      "    \"t\": \"opaque\",\n",
      "    \"p\": {\n",
      "        \"$numberInt\": \"3\"\n",
      "    }\n",
      "}\n",
      "\n",
      "\n",
      "Decoded\n",
      "\n",
      "type: opaque<3>\n",
      "data: [b'abc' b'def' b'ghi']\n",
      "mask: [ True False  True]\n",
      "\n"
     ]
    }
   ],
   "source": [
    "test(Opaque(3), [b'abc', b'def', b'ghi'], [True, False, True])"
   ]
  },
  {
   "cell_type": "markdown",
   "metadata": {},
   "source": [
    "### Bytes and String\n",
    "\n",
    "Byte and string arrays are identical in their encoding, with the later distinguish from the former in that its values may be decoded as UTF-8 code points. They are encoded by two parts\n",
    "\n",
    "* `DATA` is the concatenated bytes of the values\n",
    "* `OFFSET` is the 32-bits integers of difference encoded offset of each value within the concatenated bytes. This is the same the number of bytes within each element\n",
    "\n",
    "Note that for String array, the offsets are offsets into the raw bytes, not the characters. Each UTF-8 code point may occupy more than 1 byte."
   ]
  },
  {
   "cell_type": "code",
   "execution_count": 33,
   "metadata": {},
   "outputs": [],
   "source": [
    "class Bytes(DataType):\n",
    "    name = 'bytes'\n",
    "    has_offsets = True\n",
    "    \n",
    "    def to_numpy(self):\n",
    "        return object\n",
    "    \n",
    "    def encode_data(self, data):\n",
    "        return compress(b''.join(data))\n",
    "\n",
    "    def decode_data(self, data):\n",
    "        return decompress(data)"
   ]
  },
  {
   "cell_type": "code",
   "execution_count": 34,
   "metadata": {},
   "outputs": [],
   "source": [
    "class Utf8(Bytes):\n",
    "    name = 'utf8'\n",
    "\n",
    "    def encode_array(self, data, mask):\n",
    "        return super().encode_array([v.encode('utf8') for v in data], mask)\n",
    "\n",
    "    def decode_array(self, doc):\n",
    "        data, mask = super().decode_array(doc)\n",
    "        return [v.decode('utf8') for v in data], mask"
   ]
  },
  {
   "cell_type": "code",
   "execution_count": 35,
   "metadata": {},
   "outputs": [
    {
     "name": "stdout",
     "output_type": "stream",
     "text": [
      "\n",
      "Orignal\n",
      "\n",
      "type: bytes\n",
      "data: [b'abc', b'defgh', b'ijk']\n",
      "mask: [True, False, True]\n",
      "\n",
      "\n",
      "Encoded\n",
      "\n",
      "{\n",
      "    \"d\": {\n",
      "        \"$binary\": {\n",
      "            \"base64\": \"CwAAALBhYmNkZWZnaGlqaw==\",\n",
      "            \"subType\": \"00\"\n",
      "        }\n",
      "    },\n",
      "    \"m\": {\n",
      "        \"$binary\": {\n",
      "            \"base64\": \"AQAAABCg\",\n",
      "            \"subType\": \"00\"\n",
      "        }\n",
      "    },\n",
      "    \"t\": \"bytes\",\n",
      "    \"o\": {\n",
      "        \"$binary\": {\n",
      "            \"base64\": \"EAAAAPABAAAAAAMAAAAFAAAAAwAAAA==\",\n",
      "            \"subType\": \"00\"\n",
      "        }\n",
      "    }\n",
      "}\n",
      "\n",
      "\n",
      "Decoded\n",
      "\n",
      "type: bytes\n",
      "data: [b'abc', b'defgh', b'ijk']\n",
      "mask: [ True False  True]\n",
      "\n"
     ]
    }
   ],
   "source": [
    "test(Bytes(), [b'abc', b'defgh', b'ijk'], [True, False, True])"
   ]
  },
  {
   "cell_type": "code",
   "execution_count": 36,
   "metadata": {},
   "outputs": [
    {
     "name": "stdout",
     "output_type": "stream",
     "text": [
      "\n",
      "Orignal\n",
      "\n",
      "type: utf8\n",
      "data: ['abc', 'Ωåß√']\n",
      "mask: [True, False]\n",
      "\n",
      "\n",
      "Encoded\n",
      "\n",
      "{\n",
      "    \"d\": {\n",
      "        \"$binary\": {\n",
      "            \"base64\": \"DAAAAMBhYmPOqcOlw5/iiJo=\",\n",
      "            \"subType\": \"00\"\n",
      "        }\n",
      "    },\n",
      "    \"m\": {\n",
      "        \"$binary\": {\n",
      "            \"base64\": \"AQAAABCA\",\n",
      "            \"subType\": \"00\"\n",
      "        }\n",
      "    },\n",
      "    \"t\": \"utf8\",\n",
      "    \"o\": {\n",
      "        \"$binary\": {\n",
      "            \"base64\": \"DAAAAMAAAAAAAwAAAAkAAAA=\",\n",
      "            \"subType\": \"00\"\n",
      "        }\n",
      "    }\n",
      "}\n",
      "\n",
      "\n",
      "Decoded\n",
      "\n",
      "type: utf8\n",
      "data: ['abc', 'Ωåß√']\n",
      "mask: [ True False]\n",
      "\n"
     ]
    }
   ],
   "source": [
    "test(Utf8(), ['abc', 'Ωåß√'], [True, False])"
   ]
  },
  {
   "cell_type": "markdown",
   "metadata": {},
   "source": [
    "## Nested Arrays\n",
    "\n",
    "Nested arrays are arrays that my (recursively) contains other arrays. A few helper class and functions are defined below and explained later."
   ]
  },
  {
   "cell_type": "markdown",
   "metadata": {},
   "source": [
    "### Dictionary"
   ]
  },
  {
   "cell_type": "code",
   "execution_count": 37,
   "metadata": {},
   "outputs": [],
   "source": [
    "class Dictionary(DataType):\n",
    "    def __init__(self, index_type=None, value_type=None):\n",
    "        if index_type is None:\n",
    "            index_type = Int32()\n",
    "        \n",
    "        if value_type is None:\n",
    "            value_type = Utf8()\n",
    "\n",
    "        self.index_type = index_type\n",
    "        self.value_type = value_type\n",
    "        \n",
    "    def __str__(self):\n",
    "        return f'{self.name}<{str(self.index_type)}, {str(self.value_type)}>'\n",
    "    \n",
    "    def to_numpy(self):\n",
    "        return object\n",
    "    \n",
    "    def encode_param(self):\n",
    "        return {\n",
    "            INDEX: self.index_type.encode_type(),\n",
    "            DICT: self.value_type.encode_type(),\n",
    "        }\n",
    "\n",
    "    def decode_param(self, param):\n",
    "        self.index_type = DataType.decode_type(param[INDEX])\n",
    "        self.value_type = DataType.decode_type(param[DICT])\n",
    "\n",
    "    def encode_data(self, data):\n",
    "        value = numpy.unique(data).tolist()\n",
    "        index = [value.index(v) for v in data]\n",
    "        index_mask = numpy.ones(len(index), bool)\n",
    "        value_mask = numpy.ones(len(value), bool)\n",
    "\n",
    "        return {\n",
    "            INDEX: self.index_type.encode_array(index, index_mask),\n",
    "            DICT: self.value_type.encode_array(value, value_mask),\n",
    "        }\n",
    "\n",
    "    def decode_data(self, data):\n",
    "        index, index_mask = self.index_type.decode_array(data[INDEX])\n",
    "        value, value_mask = self.value_type.decode_array(data[DICT])\n",
    "        \n",
    "        return [value[i] for i in index]"
   ]
  },
  {
   "cell_type": "code",
   "execution_count": 38,
   "metadata": {},
   "outputs": [],
   "source": [
    "class Ordered(Dictionary):\n",
    "    name = 'ordered'"
   ]
  },
  {
   "cell_type": "code",
   "execution_count": 39,
   "metadata": {},
   "outputs": [],
   "source": [
    "class Factor(Dictionary):\n",
    "    name = 'factor'"
   ]
  },
  {
   "cell_type": "code",
   "execution_count": 40,
   "metadata": {},
   "outputs": [
    {
     "name": "stdout",
     "output_type": "stream",
     "text": [
      "\n",
      "Orignal\n",
      "\n",
      "type: ordered<int32, utf8>\n",
      "data: ['abc', 'abc', 'def', 'xyz', 'abc']\n",
      "mask: [True, True, True, False, True]\n",
      "\n",
      "\n",
      "Encoded\n",
      "\n",
      "{\n",
      "    \"d\": {\n",
      "        \"i\": {\n",
      "            \"d\": {\n",
      "                \"$binary\": {\n",
      "                    \"base64\": \"FAAAABMAAQDAAQAAAAIAAAAAAAAA\",\n",
      "                    \"subType\": \"00\"\n",
      "                }\n",
      "            },\n",
      "            \"m\": {\n",
      "                \"$binary\": {\n",
      "                    \"base64\": \"AQAAABD4\",\n",
      "                    \"subType\": \"00\"\n",
      "                }\n",
      "            },\n",
      "            \"t\": \"int32\"\n",
      "        },\n",
      "        \"d\": {\n",
      "            \"d\": {\n",
      "                \"$binary\": {\n",
      "                    \"base64\": \"CQAAAJBhYmNkZWZ4eXo=\",\n",
      "                    \"subType\": \"00\"\n",
      "                }\n",
      "            },\n",
      "            \"m\": {\n",
      "                \"$binary\": {\n",
      "                    \"base64\": \"AQAAABDg\",\n",
      "                    \"subType\": \"00\"\n",
      "                }\n",
      "            },\n",
      "            \"t\": \"utf8\",\n",
      "            \"o\": {\n",
      "                \"$binary\": {\n",
      "                    \"base64\": \"EAAAAPABAAAAAAMAAAADAAAAAwAAAA==\",\n",
      "                    \"subType\": \"00\"\n",
      "                }\n",
      "            }\n",
      "        }\n",
      "    },\n",
      "    \"m\": {\n",
      "        \"$binary\": {\n",
      "            \"base64\": \"AQAAABDo\",\n",
      "            \"subType\": \"00\"\n",
      "        }\n",
      "    },\n",
      "    \"t\": \"ordered\"\n",
      "}\n",
      "\n",
      "\n",
      "Decoded\n",
      "\n",
      "type: ordered<int32, utf8>\n",
      "data: ['abc', 'abc', 'def', 'xyz', 'abc']\n",
      "mask: [ True  True  True False  True]\n",
      "\n"
     ]
    }
   ],
   "source": [
    "test(Ordered(), ['abc', 'abc', 'def', 'xyz', 'abc'], [True, True, True, False, True])"
   ]
  },
  {
   "cell_type": "markdown",
   "metadata": {},
   "source": [
    "### List\n",
    "\n",
    "List array is an array with each element being a list itself, with the same type. The data type is defined by the value type of the elements."
   ]
  },
  {
   "cell_type": "markdown",
   "metadata": {},
   "source": [
    "It is encoded similar to that of bytes and string array,\n",
    "\n",
    "* `DATA` is the encoded document of the concatenated values\n",
    "* `OFFSET` is the 32-bits integers of difference encoded offset of each value within the concatenated bytes. This is the same the number of bytes within each element\n",
    "* `PARAM` is the encoded value type. Note that, while decoding, the value type can be inferred from the encoded value array. And the inferred type shall match the type specified here.\n",
    "\n",
    "The value array may have its own mask.\n",
    "\n",
    "Note that, the length of missing element may or may not be zero."
   ]
  },
  {
   "cell_type": "code",
   "execution_count": 41,
   "metadata": {},
   "outputs": [],
   "source": [
    "class List(DataType):\n",
    "    name = 'list'\n",
    "    has_param = True\n",
    "    has_offsets = True\n",
    "\n",
    "    def __init__(self, value_type=None):\n",
    "        self.value_type = value_type\n",
    "\n",
    "    def __str__(self):\n",
    "        return f'list<{str(self.value_type)}>'\n",
    "    \n",
    "    def to_numpy(self):\n",
    "        return object\n",
    "    \n",
    "    def encode_param(self):\n",
    "        return self.value_type.encode_type()\n",
    "    \n",
    "    def decode_param(self, param):\n",
    "        self.value_type = DataType.decode_type(param)\n",
    "\n",
    "    def encode_data(self, data):\n",
    "        values = numpy.concatenate(data)\n",
    "        values_mask = numpy.ones(len(values), bool) # not the general case\n",
    "        return self.value_type.encode_array(values, values_mask)\n",
    "\n",
    "    def decode_data(self, data):\n",
    "        values, values_mask = self.value_type.decode_array(data)\n",
    "        return values"
   ]
  },
  {
   "cell_type": "code",
   "execution_count": 42,
   "metadata": {},
   "outputs": [
    {
     "name": "stdout",
     "output_type": "stream",
     "text": [
      "\n",
      "Orignal\n",
      "\n",
      "type: list<int64>\n",
      "data: [[1, 2, 3], [], [], [4, 5]]\n",
      "mask: [True, False, True, True]\n",
      "\n",
      "\n",
      "Encoded\n",
      "\n",
      "{\n",
      "    \"d\": {\n",
      "        \"d\": {\n",
      "            \"$binary\": {\n",
      "                \"base64\": \"KAAAACIBAAEAEgIHACMAAwgAEwQIAIAFAAAAAAAAAA==\",\n",
      "                \"subType\": \"00\"\n",
      "            }\n",
      "        },\n",
      "        \"m\": {\n",
      "            \"$binary\": {\n",
      "                \"base64\": \"AQAAABD4\",\n",
      "                \"subType\": \"00\"\n",
      "            }\n",
      "        },\n",
      "        \"t\": \"int64\"\n",
      "    },\n",
      "    \"m\": {\n",
      "        \"$binary\": {\n",
      "            \"base64\": \"AQAAABCw\",\n",
      "            \"subType\": \"00\"\n",
      "        }\n",
      "    },\n",
      "    \"t\": \"list\",\n",
      "    \"p\": {\n",
      "        \"t\": \"int64\"\n",
      "    },\n",
      "    \"o\": {\n",
      "        \"$binary\": {\n",
      "            \"base64\": \"FAAAAFAAAAAAAwUAsAAAAAAAAAACAAAA\",\n",
      "            \"subType\": \"00\"\n",
      "        }\n",
      "    }\n",
      "}\n",
      "\n",
      "\n",
      "Decoded\n",
      "\n",
      "type: list<int64>\n",
      "data: [array([1, 2, 3]), array([], dtype=int64), array([], dtype=int64), array([4, 5])]\n",
      "mask: [ True False  True  True]\n",
      "\n"
     ]
    }
   ],
   "source": [
    "test(List(Int64()), [[1, 2, 3], [], [], [4, 5]], [True, False, True, True])"
   ]
  },
  {
   "cell_type": "markdown",
   "metadata": {},
   "source": [
    "### Struct\n",
    "\n",
    "Struct array is similar to that of numpy structured array. Logically each element is a record with given fields. Each given record has the same fields, and each fields has the same data type within each record. For example,"
   ]
  },
  {
   "cell_type": "code",
   "execution_count": 43,
   "metadata": {},
   "outputs": [],
   "source": [
    "class Field():\n",
    "    def __init__(self, name, dtype):\n",
    "        self.name = name\n",
    "        self.type = dtype\n",
    "\n",
    "    def __str__(self):\n",
    "        return f'{self.name}: {str(self.type)}'\n",
    "    \n",
    "    def encode(self):\n",
    "        doc = {NAME: self.name}\n",
    "        doc.update(self.type.encode_type())\n",
    "\n",
    "        return doc\n",
    "\n",
    "    @staticmethod\n",
    "    def decode(doc):\n",
    "        return Field(doc[NAME], DataType.decode_type(doc))"
   ]
  },
  {
   "cell_type": "code",
   "execution_count": 44,
   "metadata": {},
   "outputs": [],
   "source": [
    "class Struct(DataType):\n",
    "    name = 'struct'\n",
    "    has_param = True\n",
    "\n",
    "    def __init__(self, fields=None):\n",
    "        self.fields = fields\n",
    "        \n",
    "    def __str__(self):\n",
    "        return str([str(v) for v in self.fields])\n",
    "    \n",
    "    def to_numpy(self):\n",
    "        return numpy.dtype([(field.name, field.type.to_numpy()) for field in self.fields])\n",
    "    \n",
    "    def encode_param(self):\n",
    "        return [v.encode() for v in self.fields]\n",
    "    \n",
    "    def decode_param(self, param):\n",
    "        self.fields = [Field.decode(v) for v in param]\n",
    "        \n",
    "    def encode_data(self, data):\n",
    "        mask = numpy.ones(len(data), bool)\n",
    "\n",
    "        return {\n",
    "            LENGTH: len(data),\n",
    "            FIELDS: dict({\n",
    "                field.name: field.type.encode_array(data[field.name], mask)\n",
    "                for field in self.fields\n",
    "            }),\n",
    "        }\n",
    "\n",
    "    def decode_data(self, data):\n",
    "        length = data[LENGTH]\n",
    "\n",
    "        fields = dict({\n",
    "            field.name: field.type.decode_array(data[FIELDS][field.name])\n",
    "            for field in self.fields\n",
    "        })\n",
    "\n",
    "        data = numpy.ndarray(length, self.to_numpy())\n",
    "        for k, v in fields.items():\n",
    "            data[k] = v[0]\n",
    "\n",
    "        return data"
   ]
  },
  {
   "cell_type": "markdown",
   "metadata": {},
   "source": [
    "An example of struct array,"
   ]
  },
  {
   "cell_type": "code",
   "execution_count": 45,
   "metadata": {},
   "outputs": [
    {
     "data": {
      "text/plain": [
       "array([(1, 4.), (2, 5.), (3, 6.)], dtype=[('x', '<i8'), ('y', '<f8')])"
      ]
     },
     "execution_count": 45,
     "metadata": {},
     "output_type": "execute_result"
    }
   ],
   "source": [
    "struct_type = Struct([Field('x', Int64()), Field('y', Float64())])\n",
    "\n",
    "struct_data = numpy.zeros(3, struct_type.to_numpy())\n",
    "struct_data['x'] = [1, 2, 3]\n",
    "struct_data['y'] = [4, 5, 6]\n",
    "\n",
    "struct_data"
   ]
  },
  {
   "cell_type": "markdown",
   "metadata": {},
   "source": [
    "The storage while encoded is column based, that is, the gathered values of each field is encoded separatedly. More specifically\n",
    "\n",
    "* `DATA` is a document with with two field:\n",
    "    * `LENGTH` the length of the overall struct array\n",
    "    * `FIELDS` a document of with each element itself is a document,\n",
    "        * The key of the element is the field name\n",
    "        * The value of the element is the encoded document of an array of all values for this field gathered\n",
    "* `PARAM` is a list of documents, each corresponding to a field of the struct array. Note that, the while decoding, the field type can be inferred from the encoded value array. This list enforce the ordering of the fields. The inferred type shall match the field types encoded here."
   ]
  },
  {
   "cell_type": "code",
   "execution_count": 46,
   "metadata": {},
   "outputs": [],
   "source": [
    "def decode_struct(doc):\n",
    "    values = dict({k: decode_array(v)[1] for k, v in doc[DATA][FIELDS].items()})\n",
    "\n",
    "    data = numpy.ndarray(doc[DATA][LENGTH], numpy.dtype([(v[NAME], values[v[NAME]].dtype) for v in doc[PARAM]]))\n",
    "    for k, v in values.items():\n",
    "        data[k] = v\n",
    "\n",
    "    mask = decode_mask(doc[MASK], len(data))\n",
    "\n",
    "    return dtype, data, mask"
   ]
  },
  {
   "cell_type": "code",
   "execution_count": 47,
   "metadata": {},
   "outputs": [
    {
     "name": "stdout",
     "output_type": "stream",
     "text": [
      "\n",
      "Orignal\n",
      "\n",
      "type: ['x: int64', 'y: float64']\n",
      "data: [(1, 4.) (2, 5.) (3, 6.)]\n",
      "mask: [True, False, True]\n",
      "\n",
      "\n",
      "Encoded\n",
      "\n",
      "{\n",
      "    \"d\": {\n",
      "        \"l\": {\n",
      "            \"$numberInt\": \"3\"\n",
      "        },\n",
      "        \"f\": {\n",
      "            \"x\": {\n",
      "                \"d\": {\n",
      "                    \"$binary\": {\n",
      "                        \"base64\": \"GAAAACIBAAEAEgIHAJAAAwAAAAAAAAA=\",\n",
      "                        \"subType\": \"00\"\n",
      "                    }\n",
      "                },\n",
      "                \"m\": {\n",
      "                    \"$binary\": {\n",
      "                        \"base64\": \"AQAAABDg\",\n",
      "                        \"subType\": \"00\"\n",
      "                    }\n",
      "                },\n",
      "                \"t\": \"int64\"\n",
      "            },\n",
      "            \"y\": {\n",
      "                \"d\": {\n",
      "                    \"$binary\": {\n",
      "                        \"base64\": \"GAAAABEAAQAhEEAHALAAFEAAAAAAAAAYQA==\",\n",
      "                        \"subType\": \"00\"\n",
      "                    }\n",
      "                },\n",
      "                \"m\": {\n",
      "                    \"$binary\": {\n",
      "                        \"base64\": \"AQAAABDg\",\n",
      "                        \"subType\": \"00\"\n",
      "                    }\n",
      "                },\n",
      "                \"t\": \"float64\"\n",
      "            }\n",
      "        }\n",
      "    },\n",
      "    \"m\": {\n",
      "        \"$binary\": {\n",
      "            \"base64\": \"AQAAABCg\",\n",
      "            \"subType\": \"00\"\n",
      "        }\n",
      "    },\n",
      "    \"t\": \"struct\",\n",
      "    \"p\": [\n",
      "        {\n",
      "            \"n\": \"x\",\n",
      "            \"t\": \"int64\"\n",
      "        },\n",
      "        {\n",
      "            \"n\": \"y\",\n",
      "            \"t\": \"float64\"\n",
      "        }\n",
      "    ]\n",
      "}\n",
      "\n",
      "\n",
      "Decoded\n",
      "\n",
      "type: ['x: int64', 'y: float64']\n",
      "data: [(1, 4.) (2, 5.) (3, 6.)]\n",
      "mask: [ True False  True]\n",
      "\n"
     ]
    }
   ],
   "source": [
    "test(struct_type, struct_data, [True, False, True])"
   ]
  }
 ],
 "metadata": {
  "kernelspec": {
   "display_name": "Python 3",
   "language": "python",
   "name": "python3"
  },
  "language_info": {
   "codemirror_mode": {
    "name": "ipython",
    "version": 3
   },
   "file_extension": ".py",
   "mimetype": "text/x-python",
   "name": "python",
   "nbconvert_exporter": "python",
   "pygments_lexer": "ipython3",
   "version": "3.7.4"
  }
 },
 "nbformat": 4,
 "nbformat_minor": 4
}
