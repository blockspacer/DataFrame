{
 "cells": [
  {
   "cell_type": "code",
   "execution_count": 1,
   "metadata": {},
   "outputs": [],
   "source": [
    "import bson\n",
    "import bson.json_util\n",
    "import bson.raw_bson\n",
    "import lz4.block\n",
    "import numpy"
   ]
  },
  {
   "cell_type": "markdown",
   "metadata": {},
   "source": [
    "# DataFrame Serialization with BSON Format\n",
    "\n",
    "A BSON based serialization for DataFrame or similar tabular data is specified here. The format is inspired by the data format used by [Arctic](https://github.com/manahl/arctic>), especially its TickStore. However, the format covers considerably more data types, inspired by the [Arrow](https://arrow.apache.org) project. Also unlike Arctic, the format is language agnostics. Below we detail the specification of the format, with code example of a minimal reference implementation that integrate with [numpy](https://numpy.org)."
   ]
  },
  {
   "cell_type": "markdown",
   "metadata": {},
   "source": [
    "## Basics\n",
    "\n",
    "### Byte order\n",
    "\n",
    "The format use little-endian for byte order"
   ]
  },
  {
   "cell_type": "markdown",
   "metadata": {},
   "source": [
    "### Schema\n",
    "\n",
    "Each array is encoded into a BSON document. There are five possible keys at top level. The exact contents are details later. Three are them are required"
   ]
  },
  {
   "cell_type": "code",
   "execution_count": 2,
   "metadata": {},
   "outputs": [],
   "source": [
    "DATA = 'd'\n",
    "MASK = 'm'\n",
    "TYPE = 't'"
   ]
  },
  {
   "cell_type": "markdown",
   "metadata": {},
   "source": [
    "Two top level fields are optional,"
   ]
  },
  {
   "cell_type": "code",
   "execution_count": 3,
   "metadata": {},
   "outputs": [],
   "source": [
    "PARAM = 'p'\n",
    "OFFSET = 'o'"
   ]
  },
  {
   "cell_type": "markdown",
   "metadata": {},
   "source": [
    "There are a few sub field which may appears within `DATA` or `PARAM`."
   ]
  },
  {
   "cell_type": "code",
   "execution_count": 4,
   "metadata": {},
   "outputs": [],
   "source": [
    "LENGTH = 'l'\n",
    "NAME = 'n'\n",
    "FIELDS = 'f'\n",
    "INDEX = 'i'\n",
    "DICT = 'd'"
   ]
  },
  {
   "cell_type": "markdown",
   "metadata": {},
   "source": [
    "### Buffers\n",
    "\n",
    "The bulk of the data are encoded as BSON binary compressed with [LZ4](http://www.lz4.org) [block format](https://github.com/lz4/lz4/blob/master/doc/lz4_Block_format.md) prefixed with a 32-bits integer of the orignal size."
   ]
  },
  {
   "cell_type": "code",
   "execution_count": 5,
   "metadata": {},
   "outputs": [],
   "source": [
    "def compress(data: numpy.ndarray) -> bson.Binary:\n",
    "    return bson.Binary(lz4.block.compress(data.tobytes()))"
   ]
  },
  {
   "cell_type": "code",
   "execution_count": 6,
   "metadata": {},
   "outputs": [],
   "source": [
    "def decompress(data: bson.Binary, dtype='byte') -> numpy.ndarray:\n",
    "    buf = lz4.block.decompress(data)\n",
    "    wid = numpy.dtype(dtype).itemsize\n",
    "    assert len(buf) % wid == 0\n",
    "    return numpy.ndarray(len(buf) // wid, dtype, buf)"
   ]
  },
  {
   "cell_type": "markdown",
   "metadata": {},
   "source": [
    "### Mask\n",
    "\n",
    "Arrays may be masked to indicate positions of missings values. The length of the mask the the same as the array data. When encoded, a mask is packed bits with MSB order."
   ]
  },
  {
   "cell_type": "code",
   "execution_count": 7,
   "metadata": {},
   "outputs": [],
   "source": [
    "def encode_mask(data: numpy.ndarray) -> bson.Binary:\n",
    "    return compress(numpy.packbits(data))"
   ]
  },
  {
   "cell_type": "markdown",
   "metadata": {},
   "source": [
    "When unpacked, the mask may have at most 7 trailing zero bits."
   ]
  },
  {
   "cell_type": "code",
   "execution_count": 8,
   "metadata": {},
   "outputs": [],
   "source": [
    "def decode_mask(data: bson.Binary, length: int) -> numpy.ndarray:\n",
    "    buf = decompress(data, 'uint8')\n",
    "    mask = numpy.unpackbits(buf).astype(bool)\n",
    "    assert not any(mask[length:])\n",
    "    assert length <= len(mask) < length + 8\n",
    "    return mask[:length]"
   ]
  },
  {
   "cell_type": "markdown",
   "metadata": {},
   "source": [
    "### Offsets\n",
    "\n",
    "For arrays with variable length elements (`bytes`, `utf8`, `list`), the length of each element is encoded by their offsets within a concatenated array of all values. The offsets data itself is difference encoded.\n",
    "\n",
    "Example, given data\n",
    "\n",
    "    data = [[1, 2, 3], [], [4, 5], [6]]\n",
    "\n",
    "The concatenated array is,\n",
    "\n",
    "    values = [1, 2, 3, 4, 5, 6]\n",
    "\n",
    "And the corresponding offsets is,\n",
    "\n",
    "    offsets = [0, 3, 3, 5, 6]\n",
    "\n",
    "And the difference encoded offsets is,\n",
    "\n",
    "    counts = [0, 3, 0, 2, 1]\n",
    "   \n",
    "The following relation always hold (within index range):\n",
    "\n",
    "    data[i] == values[offsets[i]:offsets[i + 1]]\n",
    "    \n",
    "The `counts` array is stored as 32-bits integers."
   ]
  },
  {
   "cell_type": "code",
   "execution_count": 9,
   "metadata": {},
   "outputs": [],
   "source": [
    "def encode_offsets(data) -> bson.Binary:\n",
    "    return compress(numpy.array([0] + [len(v) for v in data], 'int32'))"
   ]
  },
  {
   "cell_type": "code",
   "execution_count": 10,
   "metadata": {},
   "outputs": [],
   "source": [
    "def decode_offsets(data, offsets: bson.Binary):\n",
    "    offsets = numpy.cumsum(decompress(offsets, 'int32'))\n",
    "    return [data[i:j] for i, j in zip(offsets[:-1], offsets[1:])]"
   ]
  },
  {
   "cell_type": "markdown",
   "metadata": {},
   "source": [
    "## Data Types\n",
    "\n",
    "Below we list all data types supported by the format.\n",
    "\n",
    "Types with fixed byte width elements\n",
    "\n",
    "| Type            | Byte width |\n",
    "|-----------------|------------|\n",
    "| `null`          | 0          |\n",
    "| `bool`          | 1          |\n",
    "| `int8`          | 1          |\n",
    "| `int16`         | 2          |\n",
    "| `int32`         | 4          |\n",
    "| `int64`         | 8          |\n",
    "| `uint8`         | 1          |\n",
    "| `uint16`        | 2          |\n",
    "| `uint32`        | 4          |\n",
    "| `uint64`        | 8          |\n",
    "| `float16`       | 2          |\n",
    "| `float32`       | 4          |\n",
    "| `float64`       | 8          |\n",
    "| `date[d]`       | 4          |\n",
    "| `date[ms]`      | 8          |\n",
    "| `timestamp[s]`  | 8          |\n",
    "| `timestamp[ms]` | 8          |\n",
    "| `timestamp[us]` | 8          |\n",
    "| `timestamp[ns]` | 8          |\n",
    "| `time[s]`       | 4          |\n",
    "| `time[ms]`      | 4          |\n",
    "| `time[us]`      | 8          |\n",
    "| `time[ns]`      | 8          |\n",
    "\n",
    "Other types may be parametric, nested or with variable length elements\n",
    "\n",
    "| Type       | Parametric | Nested | Variable Length |\n",
    "|------------|------------|--------|-----------------|\n",
    "| `opaque`   | True       | False  | False           |\n",
    "| `bytes`    | False      | False  | True            |\n",
    "| `utf8`     | False      | False  | True            |\n",
    "| `ordered`  | True       | True   | False           |\n",
    "| `factor`   | True       | True   | False           |\n",
    "| `list`     | True       | True   | True            |\n",
    "| `struct`   | True       | True   | False           |\n",
    "\n",
    "Below we define the base class for all data types. Different data type will at least override the `encode_data` and `decode_data` methods for the `DATA` field. For parameteric types the `encode_param` and `decode_param` fields are required for the `PARAM` field."
   ]
  },
  {
   "cell_type": "code",
   "execution_count": 11,
   "metadata": {},
   "outputs": [],
   "source": [
    "class DataType(object):\n",
    "    name = None\n",
    "    has_param = False\n",
    "    has_offsets = False\n",
    "\n",
    "    def __str__(self):\n",
    "        return self.name\n",
    "\n",
    "    def to_numpy(self):\n",
    "        return self.name\n",
    "\n",
    "    def encode_param(self):\n",
    "        raise NotImplementedError()\n",
    "\n",
    "    def decode_param(self):\n",
    "        raise NotImplementedError()\n",
    "\n",
    "    def encode_data(self):\n",
    "        raise NotImplementedError()\n",
    "\n",
    "    def decode_data(self):\n",
    "        raise NotImplementedError()\n",
    "\n",
    "    def encode_type(self):\n",
    "        doc = {}\n",
    "        doc[TYPE] = self.name\n",
    "\n",
    "        if self.has_param:\n",
    "            doc[PARAM] = self.encode_param()\n",
    "\n",
    "        return bson.raw_bson.RawBSONDocument(bson.encode(doc))\n",
    "\n",
    "    @staticmethod\n",
    "    def decode_type(doc):\n",
    "        typename = doc[TYPE].title()\n",
    "        typename = typename.replace('[', '')\n",
    "        typename = typename.replace(']', '')\n",
    "        dtype = globals()[typename]()\n",
    "\n",
    "        if PARAM in doc:\n",
    "            dtype.decode_param(doc[PARAM])\n",
    "\n",
    "        return dtype\n",
    "\n",
    "    def encode_array(self, data, mask):\n",
    "        doc = {}\n",
    "        doc[DATA] = self.encode_data(data)\n",
    "        doc[MASK] = encode_mask(mask)\n",
    "\n",
    "        doc.update(self.encode_type())\n",
    "\n",
    "        if self.has_offsets:\n",
    "            doc[OFFSET] = encode_offsets(data)\n",
    "\n",
    "        return bson.raw_bson.RawBSONDocument(bson.encode(doc))\n",
    "\n",
    "    def decode_array(self, doc):\n",
    "        if PARAM in doc:\n",
    "            self.decode_param(doc[PARAM])\n",
    "\n",
    "        data = self.decode_data(doc[DATA])\n",
    "\n",
    "        if OFFSET in doc:\n",
    "            data = decode_offsets(data, doc[OFFSET])\n",
    "\n",
    "        mask = decode_mask(doc[MASK], len(data))\n",
    "    \n",
    "        return data, mask"
   ]
  },
  {
   "cell_type": "markdown",
   "metadata": {},
   "source": [
    "Below we define a simple test functions to display the encoded data in [MongoDB Canonical JSON](https://github.com/mongodb/specifications/blob/master/source/extended-json.rst),"
   ]
  },
  {
   "cell_type": "code",
   "execution_count": 12,
   "metadata": {},
   "outputs": [],
   "source": [
    "def test(dtype, data, mask):\n",
    "    print(f'''\n",
    "Orignal\n",
    "\n",
    "type: {dtype}\n",
    "data: {data}\n",
    "mask: {mask}\n",
    "''')\n",
    "\n",
    "    doc = dtype.encode_array(data, mask)\n",
    "    json_mode = bson.json_util.JSONMode.CANONICAL\n",
    "    json_options = bson.json_util.JSONOptions(json_mode=json_mode)\n",
    "    json_doc = bson.json_util.dumps(doc, json_options=json_options, indent=4)\n",
    "\n",
    "    print(f'''\n",
    "Encoded\n",
    "\n",
    "{json_doc}\n",
    "''')\n",
    "\n",
    "    t = DataType.decode_type(doc)\n",
    "    d, m = t.decode_array(doc)\n",
    "\n",
    "    print(f'''\n",
    "Decoded\n",
    "\n",
    "type: {t}\n",
    "data: {d}\n",
    "mask: {m}\n",
    "''')"
   ]
  },
  {
   "cell_type": "markdown",
   "metadata": {},
   "source": [
    "### Null\n",
    "\n",
    "A `null` array is one with all values missing. The `DATA` is its encoded as a 64-bit BSON integer. Its mask is always an array of `False` with the same length."
   ]
  },
  {
   "cell_type": "code",
   "execution_count": 13,
   "metadata": {},
   "outputs": [],
   "source": [
    "class Null(DataType):\n",
    "    name = 'null'\n",
    "\n",
    "    def to_numpy(self):\n",
    "        return object\n",
    "\n",
    "    def encode_data(self, data):\n",
    "        return bson.Int64(len(data))\n",
    "\n",
    "    def decode_data(self, data):\n",
    "        return [None] * data"
   ]
  },
  {
   "cell_type": "code",
   "execution_count": 14,
   "metadata": {},
   "outputs": [
    {
     "name": "stdout",
     "output_type": "stream",
     "text": [
      "\n",
      "Orignal\n",
      "\n",
      "type: null\n",
      "data: [None, None, None]\n",
      "mask: [False, False, False]\n",
      "\n",
      "\n",
      "Encoded\n",
      "\n",
      "{\n",
      "    \"d\": {\n",
      "        \"$numberLong\": \"3\"\n",
      "    },\n",
      "    \"m\": {\n",
      "        \"$binary\": {\n",
      "            \"base64\": \"AQAAABAA\",\n",
      "            \"subType\": \"00\"\n",
      "        }\n",
      "    },\n",
      "    \"t\": \"null\"\n",
      "}\n",
      "\n",
      "\n",
      "Decoded\n",
      "\n",
      "type: null\n",
      "data: [None, None, None]\n",
      "mask: [False False False]\n",
      "\n"
     ]
    }
   ],
   "source": [
    "test(Null(), [None, None, None], [False, False, False])"
   ]
  },
  {
   "cell_type": "markdown",
   "metadata": {},
   "source": [
    "### Numeric\n",
    "\n",
    "Numeric arrays are encoded as-is. The `DATA` is its underlying bytes. All the standard numeric types are supported."
   ]
  },
  {
   "cell_type": "code",
   "execution_count": 15,
   "metadata": {},
   "outputs": [],
   "source": [
    "def numeric_type(dtype):\n",
    "    clsname = dtype.title()\n",
    "\n",
    "    def encode_data(self, data):\n",
    "        return compress(numpy.array(data, dtype))\n",
    "\n",
    "    def decode_data(self, data):\n",
    "        return decompress(data, dtype)\n",
    "\n",
    "    return clsname, type(clsname, (DataType,), {\n",
    "        'name': dtype,\n",
    "        'encode_data': encode_data,\n",
    "        'decode_data': decode_data\n",
    "    })"
   ]
  },
  {
   "cell_type": "code",
   "execution_count": 16,
   "metadata": {},
   "outputs": [],
   "source": [
    "for dtype in ['bool', 'int8', 'int16', 'int32', 'int64', 'uint8', 'uint16', 'uint32', 'uint64', 'float16', 'float32', 'float64']:\n",
    "    clsname, typeclass = numeric_type(dtype)\n",
    "    globals()[clsname] = typeclass"
   ]
  },
  {
   "cell_type": "code",
   "execution_count": 17,
   "metadata": {},
   "outputs": [
    {
     "name": "stdout",
     "output_type": "stream",
     "text": [
      "\n",
      "Orignal\n",
      "\n",
      "type: int32\n",
      "data: [1, 2, 3]\n",
      "mask: [False, True, False]\n",
      "\n",
      "\n",
      "Encoded\n",
      "\n",
      "{\n",
      "    \"d\": {\n",
      "        \"$binary\": {\n",
      "            \"base64\": \"DAAAAMABAAAAAgAAAAMAAAA=\",\n",
      "            \"subType\": \"00\"\n",
      "        }\n",
      "    },\n",
      "    \"m\": {\n",
      "        \"$binary\": {\n",
      "            \"base64\": \"AQAAABBA\",\n",
      "            \"subType\": \"00\"\n",
      "        }\n",
      "    },\n",
      "    \"t\": \"int32\"\n",
      "}\n",
      "\n",
      "\n",
      "Decoded\n",
      "\n",
      "type: int32\n",
      "data: [1 2 3]\n",
      "mask: [False  True False]\n",
      "\n"
     ]
    }
   ],
   "source": [
    "test(Int32(), [1, 2, 3], [False, True, False])"
   ]
  },
  {
   "cell_type": "markdown",
   "metadata": {},
   "source": [
    "### Date\n",
    "\n",
    "Date array is similar to numeric types in that they also have flat memory layout. The values are the days or milliseconds from UNIX epoch. They differ in that they are difference encoded before compressed. This leads to better compression ratio for many often occurring data such as financial data. For random data there shall be no difference in compression ratio on average and the code of encoding and decoding the difference shall be minimal compared to that of memory allocation etc.\n",
    "\n",
    "For example, consider the following sequence of integers and the compressed size of the orignal and difference encoded data,"
   ]
  },
  {
   "cell_type": "code",
   "execution_count": 18,
   "metadata": {},
   "outputs": [
    {
     "data": {
      "text/plain": [
       "(4013, 34)"
      ]
     },
     "execution_count": 18,
     "metadata": {},
     "output_type": "execute_result"
    }
   ],
   "source": [
    "data = numpy.array(range(1000), 'int32')\n",
    "len(compress(data)), len(compress(numpy.diff(data, prepend=numpy.int32(0))))"
   ]
  },
  {
   "cell_type": "markdown",
   "metadata": {},
   "source": [
    "The later is more than 100 times smaller than compressing the original values. Here's is another example of random integers,"
   ]
  },
  {
   "cell_type": "code",
   "execution_count": 19,
   "metadata": {},
   "outputs": [
    {
     "data": {
      "text/plain": [
       "(3785, 3849)"
      ]
     },
     "execution_count": 19,
     "metadata": {},
     "output_type": "execute_result"
    }
   ],
   "source": [
    "data = numpy.random.randint(-1000, 1000, 1000, 'int32')\n",
    "len(compress(data)), len(compress(numpy.diff(data, prepend=numpy.int32(0))))"
   ]
  },
  {
   "cell_type": "markdown",
   "metadata": {},
   "source": [
    "The compressed size of the later is comaprable to that of the original. Date array can have two different unit and underlying integer type. The underlying integer type is 32 bits sigend integer for day unit and 64 bits integer for milliseconds unit."
   ]
  },
  {
   "cell_type": "code",
   "execution_count": 20,
   "metadata": {},
   "outputs": [],
   "source": [
    "class Date(DataType):\n",
    "    @property\n",
    "    def name(self):\n",
    "        return f'date[{self.unit}]'\n",
    "\n",
    "    @property\n",
    "    def dtype(self):\n",
    "        return f'int{self.bit_width}'\n",
    "\n",
    "    def encode_data(self, data):\n",
    "        data = numpy.array(data, self.dtype)\n",
    "        values = numpy.diff(data, prepend=0).astype(self.dtype)\n",
    "        return compress(values)\n",
    "\n",
    "    def decode_data(self, data):\n",
    "        values = decompress(data, self.dtype)\n",
    "        return numpy.cumsum(values).astype(self.to_numpy())"
   ]
  },
  {
   "cell_type": "code",
   "execution_count": 21,
   "metadata": {},
   "outputs": [],
   "source": [
    "class DateD(Date):\n",
    "    unit = 'd'\n",
    "    bit_width = 32\n",
    "\n",
    "    def to_numpy(self):\n",
    "        return 'datetime64[D]'"
   ]
  },
  {
   "cell_type": "code",
   "execution_count": 22,
   "metadata": {},
   "outputs": [],
   "source": [
    "class DateMs(Date):\n",
    "    unit = 'ms'\n",
    "    bit_width = 32\n",
    "\n",
    "    def to_numpy(self):\n",
    "        return 'datetime64[ms]'"
   ]
  },
  {
   "cell_type": "code",
   "execution_count": 23,
   "metadata": {},
   "outputs": [
    {
     "name": "stdout",
     "output_type": "stream",
     "text": [
      "\n",
      "Orignal\n",
      "\n",
      "type: date[d]\n",
      "data: ['1970-01-01' '2000-01-01']\n",
      "mask: [True, False]\n",
      "\n",
      "\n",
      "Encoded\n",
      "\n",
      "{\n",
      "    \"d\": {\n",
      "        \"$binary\": {\n",
      "            \"base64\": \"CAAAAIAAAAAAzSoAAA==\",\n",
      "            \"subType\": \"00\"\n",
      "        }\n",
      "    },\n",
      "    \"m\": {\n",
      "        \"$binary\": {\n",
      "            \"base64\": \"AQAAABCA\",\n",
      "            \"subType\": \"00\"\n",
      "        }\n",
      "    },\n",
      "    \"t\": \"date[d]\"\n",
      "}\n",
      "\n",
      "\n",
      "Decoded\n",
      "\n",
      "type: date[d]\n",
      "data: ['1970-01-01' '2000-01-01']\n",
      "mask: [ True False]\n",
      "\n"
     ]
    }
   ],
   "source": [
    "test(DateD(), numpy.array(['1970-01-01', '2000-01-01'], 'datetime64[D]'), [True, False])"
   ]
  },
  {
   "cell_type": "code",
   "execution_count": 24,
   "metadata": {},
   "outputs": [
    {
     "name": "stdout",
     "output_type": "stream",
     "text": [
      "\n",
      "Orignal\n",
      "\n",
      "type: date[ms]\n",
      "data: ['1970-01-01T00:00:00.000' '2000-01-01T01:02:03.040']\n",
      "mask: [True, False]\n",
      "\n",
      "\n",
      "Encoded\n",
      "\n",
      "{\n",
      "    \"d\": {\n",
      "        \"$binary\": {\n",
      "            \"base64\": \"CAAAAIAAAAAAIHsIaw==\",\n",
      "            \"subType\": \"00\"\n",
      "        }\n",
      "    },\n",
      "    \"m\": {\n",
      "        \"$binary\": {\n",
      "            \"base64\": \"AQAAABCA\",\n",
      "            \"subType\": \"00\"\n",
      "        }\n",
      "    },\n",
      "    \"t\": \"date[ms]\"\n",
      "}\n",
      "\n",
      "\n",
      "Decoded\n",
      "\n",
      "type: date[ms]\n",
      "data: ['1970-01-01T00:00:00.000' '1970-01-21T18:48:37.920']\n",
      "mask: [ True False]\n",
      "\n"
     ]
    }
   ],
   "source": [
    "test(DateMs(), numpy.array(['1970-01-01', '2000-01-01T01:02:03.04'], 'datetime64[ms]'), [True, False])"
   ]
  },
  {
   "cell_type": "markdown",
   "metadata": {},
   "source": [
    "### Timestamp\n",
    "\n",
    "Timestamp array is encoded the same way as the date array, with the following difference,\n",
    "\n",
    "* The underlying numeric type is aways 64 bits integers\n",
    "* The unit may be one of second, millisecond, microsecond and nanosecond\n",
    "* The data type may have an optional string parameter to indicate its timezone\n",
    "\n",
    "It is equivalent to `numpy.datetime64` type"
   ]
  },
  {
   "cell_type": "code",
   "execution_count": 25,
   "metadata": {},
   "outputs": [],
   "source": [
    "class Timestamp(DataType):\n",
    "    @property\n",
    "    def name(self):\n",
    "        return f'timestamp[{self.unit}]'\n",
    " \n",
    "    def to_numpy(self):\n",
    "        return f'datetime64[{self.unit}]'\n",
    "\n",
    "    def encode_data(self, data):\n",
    "        dtype = 'int64'\n",
    "        data = numpy.array(data, dtype)\n",
    "        values = numpy.diff(data, prepend=0).astype(dtype)\n",
    "\n",
    "        return compress(values)\n",
    "\n",
    "    def decode_data(self, data):\n",
    "        dtype = 'int64'\n",
    "        values = decompress(data, dtype)\n",
    "\n",
    "        return numpy.cumsum(values).astype(self.to_numpy())"
   ]
  },
  {
   "cell_type": "code",
   "execution_count": 26,
   "metadata": {},
   "outputs": [],
   "source": [
    "class TimestampS(Timestamp):\n",
    "    unit = 's'"
   ]
  },
  {
   "cell_type": "code",
   "execution_count": 27,
   "metadata": {},
   "outputs": [],
   "source": [
    "class TimestampMs(Timestamp):\n",
    "    unit = 'ms'"
   ]
  },
  {
   "cell_type": "code",
   "execution_count": 28,
   "metadata": {},
   "outputs": [],
   "source": [
    "class TimestampUs(Timestamp):\n",
    "    unit = 'us'"
   ]
  },
  {
   "cell_type": "code",
   "execution_count": 29,
   "metadata": {},
   "outputs": [],
   "source": [
    "class TimestampNs(Timestamp):\n",
    "    unit = 'ns'"
   ]
  },
  {
   "cell_type": "code",
   "execution_count": 30,
   "metadata": {},
   "outputs": [
    {
     "name": "stdout",
     "output_type": "stream",
     "text": [
      "\n",
      "Orignal\n",
      "\n",
      "type: timestamp[ms]\n",
      "data: ['1970-01-01T00:00:00.000' '2000-01-01T01:02:03.040']\n",
      "mask: [True, False]\n",
      "\n",
      "\n",
      "Encoded\n",
      "\n",
      "{\n",
      "    \"d\": {\n",
      "        \"$binary\": {\n",
      "            \"base64\": \"EAAAABMAAQCAIHsIa9wAAAA=\",\n",
      "            \"subType\": \"00\"\n",
      "        }\n",
      "    },\n",
      "    \"m\": {\n",
      "        \"$binary\": {\n",
      "            \"base64\": \"AQAAABCA\",\n",
      "            \"subType\": \"00\"\n",
      "        }\n",
      "    },\n",
      "    \"t\": \"timestamp[ms]\"\n",
      "}\n",
      "\n",
      "\n",
      "Decoded\n",
      "\n",
      "type: timestamp[ms]\n",
      "data: ['1970-01-01T00:00:00.000' '2000-01-01T01:02:03.040']\n",
      "mask: [ True False]\n",
      "\n"
     ]
    }
   ],
   "source": [
    "test(TimestampMs(), numpy.array(['1970-01-01', '2000-01-01T01:02:03.04'], 'datetime64[ms]'), [True, False])"
   ]
  },
  {
   "cell_type": "markdown",
   "metadata": {},
   "source": [
    "### Time\n",
    "\n",
    "Time array is used to represent time of day and has the same unit choices as timestamp array. The encoding is the same as numeric types. The underlying integer type is 32 bits signed integers for second and millisecond units, and 64 bits integer for microsecond and nanosecond unit."
   ]
  },
  {
   "cell_type": "code",
   "execution_count": 31,
   "metadata": {},
   "outputs": [],
   "source": [
    "class Time(DataType):\n",
    "    @property\n",
    "    def name(self):\n",
    "        return f'time[{self.unit}]'\n",
    "\n",
    "    @property\n",
    "    def dtype(self):\n",
    "        return f'int{self.bit_width}'\n",
    "\n",
    "    def to_numpy(self):\n",
    "        return f'timedelta64[{self.unit}]'\n",
    "\n",
    "    def encode_data(self, data):\n",
    "        return compress(numpy.array(data, self.dtype))\n",
    "\n",
    "    def decode_data(self, data):\n",
    "        return decompress(data, self.dtype).astype(self.to_numpy())"
   ]
  },
  {
   "cell_type": "code",
   "execution_count": 32,
   "metadata": {},
   "outputs": [],
   "source": [
    "class TimeS(Time):\n",
    "    unit = 's'\n",
    "    bit_width = 32"
   ]
  },
  {
   "cell_type": "code",
   "execution_count": 33,
   "metadata": {},
   "outputs": [],
   "source": [
    "class TimeMs(Time):\n",
    "    unit = 'ms'\n",
    "    bit_width = 32"
   ]
  },
  {
   "cell_type": "code",
   "execution_count": 34,
   "metadata": {},
   "outputs": [],
   "source": [
    "class TimeUs(Time):\n",
    "    unit = 'us'\n",
    "    bit_width = 64"
   ]
  },
  {
   "cell_type": "code",
   "execution_count": 35,
   "metadata": {},
   "outputs": [],
   "source": [
    "class TimeNs(Time):\n",
    "    unit = 'ns'\n",
    "    bit_width = 64"
   ]
  },
  {
   "cell_type": "code",
   "execution_count": 36,
   "metadata": {},
   "outputs": [
    {
     "name": "stdout",
     "output_type": "stream",
     "text": [
      "\n",
      "Orignal\n",
      "\n",
      "type: time[ms]\n",
      "data: [1 2 3]\n",
      "mask: [True, False, True]\n",
      "\n",
      "\n",
      "Encoded\n",
      "\n",
      "{\n",
      "    \"d\": {\n",
      "        \"$binary\": {\n",
      "            \"base64\": \"DAAAAMABAAAAAgAAAAMAAAA=\",\n",
      "            \"subType\": \"00\"\n",
      "        }\n",
      "    },\n",
      "    \"m\": {\n",
      "        \"$binary\": {\n",
      "            \"base64\": \"AQAAABCg\",\n",
      "            \"subType\": \"00\"\n",
      "        }\n",
      "    },\n",
      "    \"t\": \"time[ms]\"\n",
      "}\n",
      "\n",
      "\n",
      "Decoded\n",
      "\n",
      "type: time[ms]\n",
      "data: [1 2 3]\n",
      "mask: [ True False  True]\n",
      "\n"
     ]
    }
   ],
   "source": [
    "test(TimeMs(), numpy.array([1, 2, 3], 'timedelta64[ms]'), [True, False, True])"
   ]
  },
  {
   "cell_type": "markdown",
   "metadata": {},
   "source": [
    "### Opaque\n",
    "\n",
    "Opaque array has fixed length bytes as its element. It is encoded using the concatenated bytes and the length of each element."
   ]
  },
  {
   "cell_type": "code",
   "execution_count": 37,
   "metadata": {},
   "outputs": [],
   "source": [
    "class Opaque(DataType):\n",
    "    name = 'opaque'\n",
    "    has_param = True\n",
    "\n",
    "    def __init__(self, byte_width=0):\n",
    "        self.byte_width = byte_width\n",
    "\n",
    "    def __str__(self):\n",
    "        return f'opaque[{self.byte_width}]'\n",
    "\n",
    "    def to_numpy(self):\n",
    "        return f'|S{self.byte_width}'\n",
    "\n",
    "    def encode_param(self):\n",
    "        return self.byte_width\n",
    "\n",
    "    def decode_param(self, param):\n",
    "        self.byte_width = param\n",
    "\n",
    "    def encode_data(self, data):\n",
    "        buf = b''.join(data)\n",
    "        assert len(buf) == len(data) * self.byte_width\n",
    "        return compress(numpy.ndarray(len(data), self.to_numpy(), buf))\n",
    "\n",
    "    def decode_data(self, data):\n",
    "        return decompress(data, self.to_numpy())"
   ]
  },
  {
   "cell_type": "code",
   "execution_count": 38,
   "metadata": {},
   "outputs": [
    {
     "name": "stdout",
     "output_type": "stream",
     "text": [
      "\n",
      "Orignal\n",
      "\n",
      "type: opaque[3]\n",
      "data: [b'abc', b'def', b'ghi']\n",
      "mask: [True, False, True]\n",
      "\n",
      "\n",
      "Encoded\n",
      "\n",
      "{\n",
      "    \"d\": {\n",
      "        \"$binary\": {\n",
      "            \"base64\": \"CQAAAJBhYmNkZWZnaGk=\",\n",
      "            \"subType\": \"00\"\n",
      "        }\n",
      "    },\n",
      "    \"m\": {\n",
      "        \"$binary\": {\n",
      "            \"base64\": \"AQAAABCg\",\n",
      "            \"subType\": \"00\"\n",
      "        }\n",
      "    },\n",
      "    \"t\": \"opaque\",\n",
      "    \"p\": {\n",
      "        \"$numberInt\": \"3\"\n",
      "    }\n",
      "}\n",
      "\n",
      "\n",
      "Decoded\n",
      "\n",
      "type: opaque[3]\n",
      "data: [b'abc' b'def' b'ghi']\n",
      "mask: [ True False  True]\n",
      "\n"
     ]
    }
   ],
   "source": [
    "test(Opaque(3), [b'abc', b'def', b'ghi'], [True, False, True])"
   ]
  },
  {
   "cell_type": "markdown",
   "metadata": {},
   "source": [
    "### Bytes and String\n",
    "\n",
    "Byte and string arrays are identical in their encoding, with the later distinguish from the former in that its values may be decoded as UTF-8 code points. They are encoded by two parts\n",
    "\n",
    "* `DATA` is the concatenated bytes of the values\n",
    "* `OFFSET` is the 32-bits integers of difference encoded offset of each value within the concatenated bytes. This is the same the number of bytes within each element\n",
    "\n",
    "Note that for String array, the offsets are offsets into the raw bytes, not the characters. Each UTF-8 code point may occupy more than 1 byte."
   ]
  },
  {
   "cell_type": "code",
   "execution_count": 39,
   "metadata": {},
   "outputs": [],
   "source": [
    "class Bytes(DataType):\n",
    "    name = 'bytes'\n",
    "    has_offsets = True\n",
    "\n",
    "    def to_numpy(self):\n",
    "        return object\n",
    "\n",
    "    def encode_data(self, data):\n",
    "        buf = b''.join(data)\n",
    "        return compress(numpy.ndarray(len(buf), 'byte', buf))\n",
    "\n",
    "    def decode_data(self, data):\n",
    "        return decompress(data).tobytes()"
   ]
  },
  {
   "cell_type": "code",
   "execution_count": 40,
   "metadata": {},
   "outputs": [],
   "source": [
    "class Utf8(Bytes):\n",
    "    name = 'utf8'\n",
    "\n",
    "    def encode_array(self, data, mask):\n",
    "        return super().encode_array([v.encode('utf8') for v in data], mask)\n",
    "\n",
    "    def decode_array(self, doc):\n",
    "        data, mask = super().decode_array(doc)\n",
    "        return [v.decode('utf8') for v in data], mask"
   ]
  },
  {
   "cell_type": "code",
   "execution_count": 41,
   "metadata": {},
   "outputs": [
    {
     "name": "stdout",
     "output_type": "stream",
     "text": [
      "\n",
      "Orignal\n",
      "\n",
      "type: bytes\n",
      "data: [b'abc', b'defgh', b'ijk']\n",
      "mask: [True, False, True]\n",
      "\n",
      "\n",
      "Encoded\n",
      "\n",
      "{\n",
      "    \"d\": {\n",
      "        \"$binary\": {\n",
      "            \"base64\": \"CwAAALBhYmNkZWZnaGlqaw==\",\n",
      "            \"subType\": \"00\"\n",
      "        }\n",
      "    },\n",
      "    \"m\": {\n",
      "        \"$binary\": {\n",
      "            \"base64\": \"AQAAABCg\",\n",
      "            \"subType\": \"00\"\n",
      "        }\n",
      "    },\n",
      "    \"t\": \"bytes\",\n",
      "    \"o\": {\n",
      "        \"$binary\": {\n",
      "            \"base64\": \"EAAAAPABAAAAAAMAAAAFAAAAAwAAAA==\",\n",
      "            \"subType\": \"00\"\n",
      "        }\n",
      "    }\n",
      "}\n",
      "\n",
      "\n",
      "Decoded\n",
      "\n",
      "type: bytes\n",
      "data: [b'abc', b'defgh', b'ijk']\n",
      "mask: [ True False  True]\n",
      "\n"
     ]
    }
   ],
   "source": [
    "test(Bytes(), [b'abc', b'defgh', b'ijk'], [True, False, True])"
   ]
  },
  {
   "cell_type": "code",
   "execution_count": 42,
   "metadata": {},
   "outputs": [
    {
     "name": "stdout",
     "output_type": "stream",
     "text": [
      "\n",
      "Orignal\n",
      "\n",
      "type: utf8\n",
      "data: ['abc', 'Ωåß√']\n",
      "mask: [True, False]\n",
      "\n",
      "\n",
      "Encoded\n",
      "\n",
      "{\n",
      "    \"d\": {\n",
      "        \"$binary\": {\n",
      "            \"base64\": \"DAAAAMBhYmPOqcOlw5/iiJo=\",\n",
      "            \"subType\": \"00\"\n",
      "        }\n",
      "    },\n",
      "    \"m\": {\n",
      "        \"$binary\": {\n",
      "            \"base64\": \"AQAAABCA\",\n",
      "            \"subType\": \"00\"\n",
      "        }\n",
      "    },\n",
      "    \"t\": \"utf8\",\n",
      "    \"o\": {\n",
      "        \"$binary\": {\n",
      "            \"base64\": \"DAAAAMAAAAAAAwAAAAkAAAA=\",\n",
      "            \"subType\": \"00\"\n",
      "        }\n",
      "    }\n",
      "}\n",
      "\n",
      "\n",
      "Decoded\n",
      "\n",
      "type: utf8\n",
      "data: ['abc', 'Ωåß√']\n",
      "mask: [ True False]\n",
      "\n"
     ]
    }
   ],
   "source": [
    "test(Utf8(), ['abc', 'Ωåß√'], [True, False])"
   ]
  },
  {
   "cell_type": "markdown",
   "metadata": {},
   "source": [
    "### Dictionary\n",
    "\n",
    "Dictionary encoding, also called categorical arrays is a compact way to encode data with values falls in a set of categories. For example,\n",
    "\n",
    "Given data\n",
    "\n",
    "    data = ['a', 'a', 'b', 'c', 'a', 'd', 'c']\n",
    "    \n",
    "It may be encoded by two arrays. First dictionary, the set of all possible values,\n",
    "\n",
    "    value = ['a', 'b', 'c', 'd']\n",
    "    \n",
    "And second the zero-based index within the dictionary,\n",
    "\n",
    "    index = [0, 0, 1, 2, 0, 3, 2]\n",
    "    \n",
    "The following relaton holds,\n",
    "\n",
    "    data[i] == value[index[i]]\n",
    "    \n",
    "Some languages such as R makes the distinction between ordered and unordered categorical arrays. The format allows such distinction but otherwise the encoding is identical for both:\n",
    "\n",
    "* `DATA` is a BSON document with fields\n",
    "    * `INDEX` encoded index array\n",
    "    * `DICT` encoded dictionary array\n",
    "* `PARAM` is optional. If ommited, the index type is `int32` and the dictionary type is `utf8`. If present, it is a BSON document with fields.\n",
    "    * `INDEX` encoded type of the index array\n",
    "    * `DICT` encoded type of the dictionary array\n",
    "    \n",
    "Whether or not `PARAM` is explicitly given, the types given in `PARAM` or the defaults shall match that of the actual array types in `DATA`.\n",
    " \n",
    "The implementation is responsible to maintain suitable order of the values in the dictionary if such distinction is important."
   ]
  },
  {
   "cell_type": "code",
   "execution_count": 43,
   "metadata": {},
   "outputs": [],
   "source": [
    "class Dictionary(DataType):\n",
    "    def __init__(self, index_type=None, value_type=None):\n",
    "        if index_type is None:\n",
    "            index_type = Int32()\n",
    "\n",
    "        if value_type is None:\n",
    "            value_type = Utf8()\n",
    "\n",
    "        self.index_type = index_type\n",
    "        self.value_type = value_type\n",
    "        \n",
    "    def __str__(self):\n",
    "        return f'{self.name}[{str(self.index_type)}, {str(self.value_type)}]'\n",
    "\n",
    "    def to_numpy(self):\n",
    "        return object\n",
    "\n",
    "    def encode_param(self):\n",
    "        return {\n",
    "            INDEX: self.index_type.encode_type(),\n",
    "            DICT: self.value_type.encode_type(),\n",
    "        }\n",
    "\n",
    "    def decode_param(self, param):\n",
    "        self.index_type = DataType.decode_type(param[INDEX])\n",
    "        self.value_type = DataType.decode_type(param[DICT])\n",
    "\n",
    "    def encode_data(self, data):\n",
    "        value = numpy.unique(data).tolist()\n",
    "        index = [value.index(v) for v in data]\n",
    "        index_mask = numpy.ones(len(index), bool)\n",
    "        value_mask = numpy.ones(len(value), bool)\n",
    "\n",
    "        return {\n",
    "            INDEX: self.index_type.encode_array(index, index_mask),\n",
    "            DICT: self.value_type.encode_array(value, value_mask),\n",
    "        }\n",
    "\n",
    "    def decode_data(self, data):\n",
    "        index, index_mask = self.index_type.decode_array(data[INDEX])\n",
    "        value, value_mask = self.value_type.decode_array(data[DICT])\n",
    "\n",
    "        return [value[i] for i in index]"
   ]
  },
  {
   "cell_type": "code",
   "execution_count": 44,
   "metadata": {},
   "outputs": [],
   "source": [
    "class Ordered(Dictionary):\n",
    "    name = 'ordered'"
   ]
  },
  {
   "cell_type": "code",
   "execution_count": 45,
   "metadata": {},
   "outputs": [],
   "source": [
    "class Factor(Dictionary):\n",
    "    name = 'factor'"
   ]
  },
  {
   "cell_type": "code",
   "execution_count": 46,
   "metadata": {},
   "outputs": [
    {
     "name": "stdout",
     "output_type": "stream",
     "text": [
      "\n",
      "Orignal\n",
      "\n",
      "type: ordered[int32, utf8]\n",
      "data: ['abc', 'abc', 'def', 'xyz', 'abc']\n",
      "mask: [True, True, True, False, True]\n",
      "\n",
      "\n",
      "Encoded\n",
      "\n",
      "{\n",
      "    \"d\": {\n",
      "        \"i\": {\n",
      "            \"d\": {\n",
      "                \"$binary\": {\n",
      "                    \"base64\": \"FAAAABMAAQDAAQAAAAIAAAAAAAAA\",\n",
      "                    \"subType\": \"00\"\n",
      "                }\n",
      "            },\n",
      "            \"m\": {\n",
      "                \"$binary\": {\n",
      "                    \"base64\": \"AQAAABD4\",\n",
      "                    \"subType\": \"00\"\n",
      "                }\n",
      "            },\n",
      "            \"t\": \"int32\"\n",
      "        },\n",
      "        \"d\": {\n",
      "            \"d\": {\n",
      "                \"$binary\": {\n",
      "                    \"base64\": \"CQAAAJBhYmNkZWZ4eXo=\",\n",
      "                    \"subType\": \"00\"\n",
      "                }\n",
      "            },\n",
      "            \"m\": {\n",
      "                \"$binary\": {\n",
      "                    \"base64\": \"AQAAABDg\",\n",
      "                    \"subType\": \"00\"\n",
      "                }\n",
      "            },\n",
      "            \"t\": \"utf8\",\n",
      "            \"o\": {\n",
      "                \"$binary\": {\n",
      "                    \"base64\": \"EAAAAPABAAAAAAMAAAADAAAAAwAAAA==\",\n",
      "                    \"subType\": \"00\"\n",
      "                }\n",
      "            }\n",
      "        }\n",
      "    },\n",
      "    \"m\": {\n",
      "        \"$binary\": {\n",
      "            \"base64\": \"AQAAABDo\",\n",
      "            \"subType\": \"00\"\n",
      "        }\n",
      "    },\n",
      "    \"t\": \"ordered\"\n",
      "}\n",
      "\n",
      "\n",
      "Decoded\n",
      "\n",
      "type: ordered[int32, utf8]\n",
      "data: ['abc', 'abc', 'def', 'xyz', 'abc']\n",
      "mask: [ True  True  True False  True]\n",
      "\n"
     ]
    }
   ],
   "source": [
    "test(Ordered(), ['abc', 'abc', 'def', 'xyz', 'abc'], [True, True, True, False, True])"
   ]
  },
  {
   "cell_type": "markdown",
   "metadata": {},
   "source": [
    "### List\n",
    "\n",
    "List array is an array with each element being a list itself, with the same type. The data type is defined by the value type of the elements."
   ]
  },
  {
   "cell_type": "markdown",
   "metadata": {},
   "source": [
    "It is encoded similar to that of bytes and string array,\n",
    "\n",
    "* `DATA` is the encoded document of the concatenated values\n",
    "* `OFFSET` is the 32-bits integers of difference encoded offset of each value within the concatenated bytes. This is the same the number of bytes within each element\n",
    "* `PARAM` is the encoded value type. Note that, while decoding, the value type can be inferred from the encoded value array. And the inferred type shall match the type specified here.\n",
    "\n",
    "The value array may have its own mask. The value type given in `PARAM` shall match that of the actual type in `DATA`\n",
    "\n",
    "Note that, the length of missing element may or may not be zero."
   ]
  },
  {
   "cell_type": "code",
   "execution_count": 47,
   "metadata": {},
   "outputs": [],
   "source": [
    "class List(DataType):\n",
    "    name = 'list'\n",
    "    has_param = True\n",
    "    has_offsets = True\n",
    "\n",
    "    def __init__(self, value_type=None):\n",
    "        self.value_type = value_type\n",
    "\n",
    "    def __str__(self):\n",
    "        return f'list[{str(self.value_type)}]'\n",
    "\n",
    "    def to_numpy(self):\n",
    "        return object\n",
    "\n",
    "    def encode_param(self):\n",
    "        return self.value_type.encode_type()\n",
    "\n",
    "    def decode_param(self, param):\n",
    "        self.value_type = DataType.decode_type(param)\n",
    "\n",
    "    def encode_data(self, data):\n",
    "        values = numpy.concatenate(data)\n",
    "        values_mask = numpy.ones(len(values), bool) # not the general case\n",
    "        return self.value_type.encode_array(values, values_mask)\n",
    "\n",
    "    def decode_data(self, data):\n",
    "        values, values_mask = self.value_type.decode_array(data)\n",
    "        return values"
   ]
  },
  {
   "cell_type": "code",
   "execution_count": 48,
   "metadata": {},
   "outputs": [
    {
     "name": "stdout",
     "output_type": "stream",
     "text": [
      "\n",
      "Orignal\n",
      "\n",
      "type: list[int64]\n",
      "data: [[1, 2, 3], [], [], [4, 5]]\n",
      "mask: [True, False, True, True]\n",
      "\n",
      "\n",
      "Encoded\n",
      "\n",
      "{\n",
      "    \"d\": {\n",
      "        \"d\": {\n",
      "            \"$binary\": {\n",
      "                \"base64\": \"KAAAACIBAAEAEgIHACMAAwgAEwQIAIAFAAAAAAAAAA==\",\n",
      "                \"subType\": \"00\"\n",
      "            }\n",
      "        },\n",
      "        \"m\": {\n",
      "            \"$binary\": {\n",
      "                \"base64\": \"AQAAABD4\",\n",
      "                \"subType\": \"00\"\n",
      "            }\n",
      "        },\n",
      "        \"t\": \"int64\"\n",
      "    },\n",
      "    \"m\": {\n",
      "        \"$binary\": {\n",
      "            \"base64\": \"AQAAABCw\",\n",
      "            \"subType\": \"00\"\n",
      "        }\n",
      "    },\n",
      "    \"t\": \"list\",\n",
      "    \"p\": {\n",
      "        \"t\": \"int64\"\n",
      "    },\n",
      "    \"o\": {\n",
      "        \"$binary\": {\n",
      "            \"base64\": \"FAAAAFAAAAAAAwUAsAAAAAAAAAACAAAA\",\n",
      "            \"subType\": \"00\"\n",
      "        }\n",
      "    }\n",
      "}\n",
      "\n",
      "\n",
      "Decoded\n",
      "\n",
      "type: list[int64]\n",
      "data: [array([1, 2, 3]), array([], dtype=int64), array([], dtype=int64), array([4, 5])]\n",
      "mask: [ True False  True  True]\n",
      "\n"
     ]
    }
   ],
   "source": [
    "test(List(Int64()), [[1, 2, 3], [], [], [4, 5]], [True, False, True, True])"
   ]
  },
  {
   "cell_type": "markdown",
   "metadata": {},
   "source": [
    "### Struct\n",
    "\n",
    "Struct array is similar to that of numpy structured array. Logically each element is a record with given fields."
   ]
  },
  {
   "cell_type": "code",
   "execution_count": 49,
   "metadata": {},
   "outputs": [],
   "source": [
    "class Field():\n",
    "    def __init__(self, name, dtype):\n",
    "        self.name = name\n",
    "        self.type = dtype\n",
    "\n",
    "    def __str__(self):\n",
    "        return f'{self.name}: {str(self.type)}'\n",
    "\n",
    "    def encode(self):\n",
    "        doc = {NAME: self.name}\n",
    "        doc.update(self.type.encode_type())\n",
    "\n",
    "        return doc\n",
    "\n",
    "    @staticmethod\n",
    "    def decode(doc):\n",
    "        return Field(doc[NAME], DataType.decode_type(doc))"
   ]
  },
  {
   "cell_type": "code",
   "execution_count": 50,
   "metadata": {},
   "outputs": [],
   "source": [
    "class Struct(DataType):\n",
    "    name = 'struct'\n",
    "    has_param = True\n",
    "\n",
    "    def __init__(self, fields=None):\n",
    "        self.fields = fields\n",
    "\n",
    "    def __str__(self):\n",
    "        return f'struct{[str(v) for v in self.fields]}'\n",
    "\n",
    "    def to_numpy(self):\n",
    "        return numpy.dtype([(field.name, field.type.to_numpy()) for field in self.fields])\n",
    "\n",
    "    def encode_param(self):\n",
    "        return [v.encode() for v in self.fields]\n",
    "\n",
    "    def decode_param(self, param):\n",
    "        self.fields = [Field.decode(v) for v in param]\n",
    "\n",
    "    def encode_data(self, data):\n",
    "        mask = numpy.ones(len(data), bool)\n",
    "\n",
    "        return {\n",
    "            LENGTH: bson.Int64(len(data)),\n",
    "            FIELDS: dict({\n",
    "                field.name: field.type.encode_array(data[field.name], mask)\n",
    "                for field in self.fields\n",
    "            }),\n",
    "        }\n",
    "\n",
    "    def decode_data(self, data):\n",
    "        length = data[LENGTH]\n",
    "\n",
    "        fields = dict({\n",
    "            field.name: field.type.decode_array(data[FIELDS][field.name])\n",
    "            for field in self.fields\n",
    "        })\n",
    "\n",
    "        data = numpy.ndarray(length, self.to_numpy())\n",
    "        for k, v in fields.items():\n",
    "            data[k] = v[0]\n",
    "\n",
    "        return data"
   ]
  },
  {
   "cell_type": "markdown",
   "metadata": {},
   "source": [
    "An example of struct array,"
   ]
  },
  {
   "cell_type": "code",
   "execution_count": 51,
   "metadata": {},
   "outputs": [
    {
     "data": {
      "text/plain": [
       "array([(1, 4.), (2, 5.), (3, 6.)], dtype=[('x', '<i8'), ('y', '<f8')])"
      ]
     },
     "execution_count": 51,
     "metadata": {},
     "output_type": "execute_result"
    }
   ],
   "source": [
    "struct_type = Struct([Field('x', Int64()), Field('y', Float64())])\n",
    "\n",
    "struct_data = numpy.zeros(3, struct_type.to_numpy())\n",
    "struct_data['x'] = [1, 2, 3]\n",
    "struct_data['y'] = [4, 5, 6]\n",
    "\n",
    "struct_data"
   ]
  },
  {
   "cell_type": "markdown",
   "metadata": {},
   "source": [
    "The storage while encoded is column based, that is, the gathered values of each field is encoded separatedly. More specifically\n",
    "\n",
    "* `DATA` is a document with with two field:\n",
    "    * `LENGTH` the length of the overall struct array\n",
    "    * `FIELDS` a document of with each element itself is a document,\n",
    "        * The key of the element is the field name\n",
    "        * The value of the element is the encoded document of an array of all values for this field gathered\n",
    "* `PARAM` is a list of documents, each corresponding to a field of the struct array. Note that, the while decoding, the field type can be inferred from the encoded value array. This list enforce the ordering of the fields. The inferred type shall match the field types encoded here.\n",
    "\n",
    "The types given in `PARAM` shall match that of the actual types in `DATA`."
   ]
  },
  {
   "cell_type": "code",
   "execution_count": 52,
   "metadata": {},
   "outputs": [
    {
     "name": "stdout",
     "output_type": "stream",
     "text": [
      "\n",
      "Orignal\n",
      "\n",
      "type: struct['x: int64', 'y: float64']\n",
      "data: [(1, 4.) (2, 5.) (3, 6.)]\n",
      "mask: [True, False, True]\n",
      "\n",
      "\n",
      "Encoded\n",
      "\n",
      "{\n",
      "    \"d\": {\n",
      "        \"l\": {\n",
      "            \"$numberLong\": \"3\"\n",
      "        },\n",
      "        \"f\": {\n",
      "            \"x\": {\n",
      "                \"d\": {\n",
      "                    \"$binary\": {\n",
      "                        \"base64\": \"GAAAACIBAAEAEgIHAJAAAwAAAAAAAAA=\",\n",
      "                        \"subType\": \"00\"\n",
      "                    }\n",
      "                },\n",
      "                \"m\": {\n",
      "                    \"$binary\": {\n",
      "                        \"base64\": \"AQAAABDg\",\n",
      "                        \"subType\": \"00\"\n",
      "                    }\n",
      "                },\n",
      "                \"t\": \"int64\"\n",
      "            },\n",
      "            \"y\": {\n",
      "                \"d\": {\n",
      "                    \"$binary\": {\n",
      "                        \"base64\": \"GAAAABEAAQAhEEAHALAAFEAAAAAAAAAYQA==\",\n",
      "                        \"subType\": \"00\"\n",
      "                    }\n",
      "                },\n",
      "                \"m\": {\n",
      "                    \"$binary\": {\n",
      "                        \"base64\": \"AQAAABDg\",\n",
      "                        \"subType\": \"00\"\n",
      "                    }\n",
      "                },\n",
      "                \"t\": \"float64\"\n",
      "            }\n",
      "        }\n",
      "    },\n",
      "    \"m\": {\n",
      "        \"$binary\": {\n",
      "            \"base64\": \"AQAAABCg\",\n",
      "            \"subType\": \"00\"\n",
      "        }\n",
      "    },\n",
      "    \"t\": \"struct\",\n",
      "    \"p\": [\n",
      "        {\n",
      "            \"n\": \"x\",\n",
      "            \"t\": \"int64\"\n",
      "        },\n",
      "        {\n",
      "            \"n\": \"y\",\n",
      "            \"t\": \"float64\"\n",
      "        }\n",
      "    ]\n",
      "}\n",
      "\n",
      "\n",
      "Decoded\n",
      "\n",
      "type: struct['x: int64', 'y: float64']\n",
      "data: [(1, 4.) (2, 5.) (3, 6.)]\n",
      "mask: [ True False  True]\n",
      "\n"
     ]
    }
   ],
   "source": [
    "test(struct_type, struct_data, [True, False, True])"
   ]
  },
  {
   "cell_type": "code",
   "execution_count": null,
   "metadata": {},
   "outputs": [],
   "source": []
  }
 ],
 "metadata": {
  "kernelspec": {
   "display_name": "Python 3",
   "language": "python",
   "name": "python3"
  },
  "language_info": {
   "codemirror_mode": {
    "name": "ipython",
    "version": 3
   },
   "file_extension": ".py",
   "mimetype": "text/x-python",
   "name": "python",
   "nbconvert_exporter": "python",
   "pygments_lexer": "ipython3",
   "version": "3.7.4"
  }
 },
 "nbformat": 4,
 "nbformat_minor": 4
}
