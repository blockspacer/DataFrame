{
 "cells": [
  {
   "cell_type": "markdown",
   "metadata": {},
   "source": [
    "# DataFrame Serialization with BSON Format\n",
    "\n",
    "The library specify and implement (in C++ and Python) a BSON based serialization for DataFrame data. The format is inspired by the data format of [Arctic](https://github.com/manahl/arctic>), in particular its TickStore. However, the format covers considerably more data types, inspired by the [Arrow](https://arrow.apache.org) project.\n",
    "\n",
    "The the specification of has some similarity to that of Arrow, it is independent and has some notable differences.\n",
    "\n",
    "The Python package `bson_dataframe` provides integration with [pyarrow](https://arrow.apache.org/docs/python/) and [pandas](https://pandas.pydata.org).\n",
    "\n",
    "Below we detail the specification of the format, with code example of how to encode and decode different data types."
   ]
  },
  {
   "cell_type": "code",
   "execution_count": 1,
   "metadata": {},
   "outputs": [],
   "source": [
    "import numpy\n",
    "import lz4.block\n",
    "import bson\n",
    "import bson.json_util"
   ]
  },
  {
   "cell_type": "code",
   "execution_count": 3,
   "metadata": {},
   "outputs": [],
   "source": [
    "def test(data, dtype, encoder, decoder):\n",
    "    numpy.random.seed(1204)\n",
    "    mask = numpy.random.bytes(len(data) // 8 + 1)\n",
    "    mask = numpy.ndarray(len(mask), numpy.uint8, mask)\n",
    "    mask = numpy.unpackbits(mask)[:len(data)]\n",
    "    mask = mask.astype(bool)\n",
    "\n",
    "    doc = encoder(data, mask, dtype)\n",
    "    d, m = decoder(doc)\n",
    "    \n",
    "    \n",
    "    json_mode = bson.json_util.JSONMode.CANONICAL\n",
    "    json_options = bson.json_util.JSONOptions(json_mode=json_mode)\n",
    "    json_doc = bson.json_util.dumps(doc, json_options=json_options, indent=4)\n",
    "\n",
    "    \n",
    "    print(f'''\n",
    "Orignal Data\n",
    "\n",
    "data: {data}\n",
    "mask: {mask}\n",
    "type: {dtype}\n",
    "\n",
    "Encoded Document\n",
    "\n",
    "{json_doc}\n",
    "\n",
    "Decoded Data\n",
    "\n",
    "data: {d}\n",
    "mask: {m}\n",
    "''')"
   ]
  },
  {
   "cell_type": "markdown",
   "metadata": {},
   "source": [
    "## Schema of BSON Keys"
   ]
  },
  {
   "cell_type": "code",
   "execution_count": 2,
   "metadata": {},
   "outputs": [],
   "source": [
    "DATA = 'd'\n",
    "MASK = 'm'\n",
    "TYPE = 't'\n",
    "PARAM = 'p'\n",
    "\n",
    "# binary/string/list\n",
    "OFFSET = 'o'\n",
    "\n",
    "# list\n",
    "LENGTH = 'l'\n",
    "\n",
    "# struct\n",
    "NAME = 'n'\n",
    "FIELDS = 'f'\n",
    "\n",
    "# dictionary\n",
    "INDEX = 'i'\n",
    "DICT = 'd'"
   ]
  },
  {
   "cell_type": "markdown",
   "metadata": {},
   "source": [
    "## Compression"
   ]
  },
  {
   "cell_type": "code",
   "execution_count": 4,
   "metadata": {},
   "outputs": [],
   "source": [
    "def compress(data) -> bson.Binary:\n",
    "    if isinstance(data, numpy.ndarray):\n",
    "        data = data.tobytes()\n",
    "\n",
    "    return bson.Binary(lz4.block.compress(data))"
   ]
  },
  {
   "cell_type": "code",
   "execution_count": 5,
   "metadata": {},
   "outputs": [],
   "source": [
    "def decompress(data, dtype: str):\n",
    "    buf = lz4.block.decompress(data)\n",
    "\n",
    "    if dtype == 'raw':\n",
    "        return buf\n",
    "\n",
    "    wid = numpy.dtype(dtype).itemsize\n",
    "    assert len(buf) % wid == 0\n",
    "\n",
    "    return numpy.ndarray(len(buf) // wid, dtype, buf)"
   ]
  },
  {
   "cell_type": "code",
   "execution_count": 6,
   "metadata": {},
   "outputs": [],
   "source": [
    "def extract_type(doc):\n",
    "    ret = {TYPE: doc[TYPE]}\n",
    "    if PARAM in ret:\n",
    "        ret[PARAM] = doc[PARAM]\n",
    "\n",
    "    return ret"
   ]
  },
  {
   "cell_type": "markdown",
   "metadata": {},
   "source": [
    "## Mask"
   ]
  },
  {
   "cell_type": "code",
   "execution_count": 7,
   "metadata": {},
   "outputs": [],
   "source": [
    "def encode_mask(data: numpy.ndarray) -> bson.Binary:\n",
    "    return compress(numpy.packbits(data, bitorder='big'))"
   ]
  },
  {
   "cell_type": "code",
   "execution_count": 8,
   "metadata": {},
   "outputs": [],
   "source": [
    "def decode_mask(data: bson.Binary, length) -> numpy.ndarray:\n",
    "    return numpy.unpackbits(decompress(data, numpy.uint8), bitorder='big').astype(bool)[:length]"
   ]
  },
  {
   "cell_type": "markdown",
   "metadata": {},
   "source": [
    "### Null Array"
   ]
  },
  {
   "cell_type": "code",
   "execution_count": 9,
   "metadata": {},
   "outputs": [],
   "source": [
    "def encode_null(data, *args):\n",
    "    mask = numpy.zeros(len(data), dtype=bool)\n",
    "\n",
    "    return {\n",
    "        DATA: bson.Int64(len(data)),\n",
    "        MASK: encode_mask(mask),\n",
    "        TYPE: 'null',\n",
    "    }"
   ]
  },
  {
   "cell_type": "code",
   "execution_count": 10,
   "metadata": {},
   "outputs": [],
   "source": [
    "def decode_null(doc):\n",
    "    length = doc[DATA]\n",
    "    data = [None] * length\n",
    "    mask = numpy.zeros(length, dtype=bool)\n",
    "\n",
    "    return data, mask"
   ]
  },
  {
   "cell_type": "code",
   "execution_count": 11,
   "metadata": {},
   "outputs": [
    {
     "name": "stdout",
     "output_type": "stream",
     "text": [
      "\n",
      "Orignal Data\n",
      "\n",
      "data: [None, None, None]\n",
      "mask: [ True False False]\n",
      "type: null\n",
      "\n",
      "Encoded Document\n",
      "\n",
      "{\n",
      "    \"d\": {\n",
      "        \"$numberLong\": \"3\"\n",
      "    },\n",
      "    \"m\": {\n",
      "        \"$binary\": {\n",
      "            \"base64\": \"AQAAABAA\",\n",
      "            \"subType\": \"00\"\n",
      "        }\n",
      "    },\n",
      "    \"t\": \"null\"\n",
      "}\n",
      "\n",
      "Decoded Data\n",
      "\n",
      "data: [None, None, None]\n",
      "mask: [False False False]\n",
      "\n"
     ]
    }
   ],
   "source": [
    "test([None] * 3, 'null', encode_null, decode_null)"
   ]
  },
  {
   "cell_type": "markdown",
   "metadata": {},
   "source": [
    "### Boolean Arrays"
   ]
  },
  {
   "cell_type": "code",
   "execution_count": 12,
   "metadata": {},
   "outputs": [],
   "source": [
    "def encode_bool(data, mask, *args):\n",
    "    data = numpy.array(data, dtype=bool).astype(numpy.int8)\n",
    "\n",
    "    return {\n",
    "        DATA: compress(data),\n",
    "        MASK: encode_mask(mask),\n",
    "        TYPE: 'bool',\n",
    "    }"
   ]
  },
  {
   "cell_type": "code",
   "execution_count": 13,
   "metadata": {},
   "outputs": [],
   "source": [
    "def decode_bool(doc):\n",
    "    data = decompress(doc[DATA], numpy.int8).astype(bool)\n",
    "    mask = decode_mask(doc[MASK], len(data))\n",
    "\n",
    "    return data, mask"
   ]
  },
  {
   "cell_type": "code",
   "execution_count": 14,
   "metadata": {},
   "outputs": [
    {
     "name": "stdout",
     "output_type": "stream",
     "text": [
      "\n",
      "Orignal Data\n",
      "\n",
      "data: [True, False, True]\n",
      "mask: [ True False False]\n",
      "type: bool\n",
      "\n",
      "Encoded Document\n",
      "\n",
      "{\n",
      "    \"d\": {\n",
      "        \"$binary\": {\n",
      "            \"base64\": \"AwAAADABAAE=\",\n",
      "            \"subType\": \"00\"\n",
      "        }\n",
      "    },\n",
      "    \"m\": {\n",
      "        \"$binary\": {\n",
      "            \"base64\": \"AQAAABCA\",\n",
      "            \"subType\": \"00\"\n",
      "        }\n",
      "    },\n",
      "    \"t\": \"bool\"\n",
      "}\n",
      "\n",
      "Decoded Data\n",
      "\n",
      "data: [ True False  True]\n",
      "mask: [ True False False]\n",
      "\n"
     ]
    }
   ],
   "source": [
    "test([True, False, True], 'bool', encode_bool, decode_bool)"
   ]
  },
  {
   "cell_type": "markdown",
   "metadata": {},
   "source": [
    "### Numeric Arrays"
   ]
  },
  {
   "cell_type": "code",
   "execution_count": 15,
   "metadata": {},
   "outputs": [],
   "source": [
    "NUMERIC_TYPES = ['int8', 'int16', 'int32', 'int64', 'uint8', 'uint16', 'uint32', 'uint64', 'float16', 'float32', 'float64']"
   ]
  },
  {
   "cell_type": "code",
   "execution_count": 16,
   "metadata": {},
   "outputs": [],
   "source": [
    "def encode_numeric(data, mask, dtype):\n",
    "    data = numpy.array(data, dtype=dtype)\n",
    "\n",
    "    return {\n",
    "        DATA: compress(data),\n",
    "        MASK: encode_mask(mask),\n",
    "        TYPE: dtype,\n",
    "    }"
   ]
  },
  {
   "cell_type": "code",
   "execution_count": 17,
   "metadata": {},
   "outputs": [],
   "source": [
    "def decode_numeric(doc):\n",
    "    data = decompress(doc[DATA], doc[TYPE])\n",
    "    mask = decode_mask(doc[MASK], len(data))\n",
    "\n",
    "    return data, mask"
   ]
  },
  {
   "cell_type": "code",
   "execution_count": 18,
   "metadata": {},
   "outputs": [
    {
     "name": "stdout",
     "output_type": "stream",
     "text": [
      "\n",
      "Orignal Data\n",
      "\n",
      "data: [1, 2, 3]\n",
      "mask: [ True False False]\n",
      "type: int32\n",
      "\n",
      "Encoded Document\n",
      "\n",
      "{\n",
      "    \"d\": {\n",
      "        \"$binary\": {\n",
      "            \"base64\": \"DAAAAMABAAAAAgAAAAMAAAA=\",\n",
      "            \"subType\": \"00\"\n",
      "        }\n",
      "    },\n",
      "    \"m\": {\n",
      "        \"$binary\": {\n",
      "            \"base64\": \"AQAAABCA\",\n",
      "            \"subType\": \"00\"\n",
      "        }\n",
      "    },\n",
      "    \"t\": \"int32\"\n",
      "}\n",
      "\n",
      "Decoded Data\n",
      "\n",
      "data: [1 2 3]\n",
      "mask: [ True False False]\n",
      "\n"
     ]
    }
   ],
   "source": [
    "test([1, 2, 3], 'int32', encode_numeric, decode_numeric)"
   ]
  },
  {
   "cell_type": "markdown",
   "metadata": {},
   "source": [
    "## Date Array"
   ]
  },
  {
   "cell_type": "code",
   "execution_count": 19,
   "metadata": {},
   "outputs": [],
   "source": [
    "DATE_TYPES = {'date[d]': 'int32', 'date[ms]': 'int64'}\n",
    "DATE_UNITS = {'date[d]': 'datetime64[D]', 'date[ms]': 'datetime64[ms]'}"
   ]
  },
  {
   "cell_type": "code",
   "execution_count": 20,
   "metadata": {},
   "outputs": [],
   "source": [
    "def encode_date(data, mask, dtype):\n",
    "    data = numpy.array(data, dtype=DATE_TYPES[dtype])\n",
    "    values = numpy.diff(data, prepend=0)\n",
    "    \n",
    "    return {\n",
    "        DATA: compress(values.astype(DATE_TYPES[dtype])),\n",
    "        MASK: encode_mask(mask),\n",
    "        TYPE: dtype,\n",
    "    }"
   ]
  },
  {
   "cell_type": "code",
   "execution_count": 21,
   "metadata": {},
   "outputs": [],
   "source": [
    "def decode_date(doc):\n",
    "    dtype = DATE_TYPES[doc[TYPE]]\n",
    "    values = numpy.cumsum(decompress(doc[DATA], dtype)).astype(DATE_UNITS[doc[TYPE]])\n",
    "    mask = decode_mask(doc[MASK], len(values))\n",
    "\n",
    "    return values, mask"
   ]
  },
  {
   "cell_type": "code",
   "execution_count": 22,
   "metadata": {},
   "outputs": [
    {
     "name": "stdout",
     "output_type": "stream",
     "text": [
      "\n",
      "Orignal Data\n",
      "\n",
      "data: ['1970-01-01' '2000-01-01']\n",
      "mask: [ True False]\n",
      "type: date[d]\n",
      "\n",
      "Encoded Document\n",
      "\n",
      "{\n",
      "    \"d\": {\n",
      "        \"$binary\": {\n",
      "            \"base64\": \"CAAAAIAAAAAAzSoAAA==\",\n",
      "            \"subType\": \"00\"\n",
      "        }\n",
      "    },\n",
      "    \"m\": {\n",
      "        \"$binary\": {\n",
      "            \"base64\": \"AQAAABCA\",\n",
      "            \"subType\": \"00\"\n",
      "        }\n",
      "    },\n",
      "    \"t\": \"date[d]\"\n",
      "}\n",
      "\n",
      "Decoded Data\n",
      "\n",
      "data: ['1970-01-01' '2000-01-01']\n",
      "mask: [ True False]\n",
      "\n"
     ]
    }
   ],
   "source": [
    "test(numpy.array(['1970-01-01', '2000-01-01'], dtype='datetime64[D]'), 'date[d]', encode_date, decode_date)"
   ]
  },
  {
   "cell_type": "code",
   "execution_count": 23,
   "metadata": {},
   "outputs": [
    {
     "name": "stdout",
     "output_type": "stream",
     "text": [
      "\n",
      "Orignal Data\n",
      "\n",
      "data: ['1970-01-01T00:00:00.000' '2000-01-01T01:02:03.040']\n",
      "mask: [ True False]\n",
      "type: date[ms]\n",
      "\n",
      "Encoded Document\n",
      "\n",
      "{\n",
      "    \"d\": {\n",
      "        \"$binary\": {\n",
      "            \"base64\": \"EAAAABMAAQCAIHsIa9wAAAA=\",\n",
      "            \"subType\": \"00\"\n",
      "        }\n",
      "    },\n",
      "    \"m\": {\n",
      "        \"$binary\": {\n",
      "            \"base64\": \"AQAAABCA\",\n",
      "            \"subType\": \"00\"\n",
      "        }\n",
      "    },\n",
      "    \"t\": \"date[ms]\"\n",
      "}\n",
      "\n",
      "Decoded Data\n",
      "\n",
      "data: ['1970-01-01T00:00:00.000' '2000-01-01T01:02:03.040']\n",
      "mask: [ True False]\n",
      "\n"
     ]
    }
   ],
   "source": [
    "test(numpy.array(['1970-01-01', '2000-01-01T01:02:03.04'], dtype='datetime64[ms]'), 'date[ms]', encode_date, decode_date)"
   ]
  },
  {
   "cell_type": "markdown",
   "metadata": {},
   "source": [
    "## Timestamp Array"
   ]
  },
  {
   "cell_type": "code",
   "execution_count": 24,
   "metadata": {},
   "outputs": [],
   "source": [
    "TIMESTAMP_TYPES = ['timestamp[s]', 'timestamp[ms]', 'timestamp[us]', 'timestamp[ns]']"
   ]
  },
  {
   "cell_type": "code",
   "execution_count": 25,
   "metadata": {},
   "outputs": [],
   "source": [
    "def encode_timestamp(data, mask, dtype):\n",
    "    data = numpy.array(data, dtype='int64')\n",
    "    values = numpy.diff(data, prepend=0)\n",
    "    \n",
    "    return {\n",
    "        DATA: compress(values.astype('int64')),\n",
    "        MASK: encode_mask(mask),\n",
    "        TYPE: dtype,\n",
    "    }"
   ]
  },
  {
   "cell_type": "code",
   "execution_count": 26,
   "metadata": {},
   "outputs": [],
   "source": [
    "def decode_timestamp(doc):\n",
    "    values = numpy.cumsum(decompress(doc[DATA], 'int64')).astype(doc[TYPE].replace('timestamp', 'datetime64'))\n",
    "    mask = decode_mask(doc[MASK], len(values))\n",
    "\n",
    "    return values, mask"
   ]
  },
  {
   "cell_type": "code",
   "execution_count": 27,
   "metadata": {},
   "outputs": [
    {
     "name": "stdout",
     "output_type": "stream",
     "text": [
      "\n",
      "Orignal Data\n",
      "\n",
      "data: ['1970-01-01T00:00:00.000' '2000-01-01T01:02:03.040']\n",
      "mask: [ True False]\n",
      "type: timestamp[ms]\n",
      "\n",
      "Encoded Document\n",
      "\n",
      "{\n",
      "    \"d\": {\n",
      "        \"$binary\": {\n",
      "            \"base64\": \"EAAAABMAAQCAIHsIa9wAAAA=\",\n",
      "            \"subType\": \"00\"\n",
      "        }\n",
      "    },\n",
      "    \"m\": {\n",
      "        \"$binary\": {\n",
      "            \"base64\": \"AQAAABCA\",\n",
      "            \"subType\": \"00\"\n",
      "        }\n",
      "    },\n",
      "    \"t\": \"timestamp[ms]\"\n",
      "}\n",
      "\n",
      "Decoded Data\n",
      "\n",
      "data: ['1970-01-01T00:00:00.000' '2000-01-01T01:02:03.040']\n",
      "mask: [ True False]\n",
      "\n"
     ]
    }
   ],
   "source": [
    "test(numpy.array(['1970-01-01', '2000-01-01T01:02:03.04'], dtype='datetime64[ms]'), 'timestamp[ms]', encode_timestamp, decode_timestamp)"
   ]
  },
  {
   "cell_type": "markdown",
   "metadata": {},
   "source": [
    "## Time Array"
   ]
  },
  {
   "cell_type": "code",
   "execution_count": 28,
   "metadata": {},
   "outputs": [],
   "source": [
    "TIME_TYPES = {'time[s]': 'int32', 'time[ms]': 'int32', 'time[us]': 'int64', 'time[ns]': 'int64'}"
   ]
  },
  {
   "cell_type": "code",
   "execution_count": 29,
   "metadata": {},
   "outputs": [],
   "source": [
    "def encode_time(data, mask, dtype):\n",
    "    data = numpy.array(data, dtype=TIME_TYPES[dtype])\n",
    "\n",
    "    return {\n",
    "        DATA: compress(data),\n",
    "        MASK: encode_mask(mask),\n",
    "        TYPE: dtype,\n",
    "    }"
   ]
  },
  {
   "cell_type": "code",
   "execution_count": 30,
   "metadata": {},
   "outputs": [],
   "source": [
    "def decode_time(doc):\n",
    "    dtype = TIME_TYPES[doc[TYPE]]\n",
    "    data = decompress(doc[DATA], dtype).astype(doc[TYPE].replace('time', 'timedelta64'))\n",
    "    mask = decode_mask(doc[MASK], len(data))\n",
    "\n",
    "    return data, mask"
   ]
  },
  {
   "cell_type": "code",
   "execution_count": 31,
   "metadata": {},
   "outputs": [
    {
     "name": "stdout",
     "output_type": "stream",
     "text": [
      "\n",
      "Orignal Data\n",
      "\n",
      "data: [1 2 3]\n",
      "mask: [ True False False]\n",
      "type: time[ms]\n",
      "\n",
      "Encoded Document\n",
      "\n",
      "{\n",
      "    \"d\": {\n",
      "        \"$binary\": {\n",
      "            \"base64\": \"DAAAAMABAAAAAgAAAAMAAAA=\",\n",
      "            \"subType\": \"00\"\n",
      "        }\n",
      "    },\n",
      "    \"m\": {\n",
      "        \"$binary\": {\n",
      "            \"base64\": \"AQAAABCA\",\n",
      "            \"subType\": \"00\"\n",
      "        }\n",
      "    },\n",
      "    \"t\": \"time[ms]\"\n",
      "}\n",
      "\n",
      "Decoded Data\n",
      "\n",
      "data: [1 2 3]\n",
      "mask: [ True False False]\n",
      "\n"
     ]
    }
   ],
   "source": [
    "test(numpy.array([1, 2, 3], dtype='timedelta64[ms]'), 'time[ms]', encode_time, decode_time)"
   ]
  },
  {
   "cell_type": "code",
   "execution_count": 32,
   "metadata": {},
   "outputs": [
    {
     "name": "stdout",
     "output_type": "stream",
     "text": [
      "\n",
      "Orignal Data\n",
      "\n",
      "data: [1 2 3]\n",
      "mask: [ True False False]\n",
      "type: time[ns]\n",
      "\n",
      "Encoded Document\n",
      "\n",
      "{\n",
      "    \"d\": {\n",
      "        \"$binary\": {\n",
      "            \"base64\": \"GAAAACIBAAEAEgIHAJAAAwAAAAAAAAA=\",\n",
      "            \"subType\": \"00\"\n",
      "        }\n",
      "    },\n",
      "    \"m\": {\n",
      "        \"$binary\": {\n",
      "            \"base64\": \"AQAAABCA\",\n",
      "            \"subType\": \"00\"\n",
      "        }\n",
      "    },\n",
      "    \"t\": \"time[ns]\"\n",
      "}\n",
      "\n",
      "Decoded Data\n",
      "\n",
      "data: [1 2 3]\n",
      "mask: [ True False False]\n",
      "\n"
     ]
    }
   ],
   "source": [
    "test(numpy.array([1, 2, 3], dtype='timedelta64[ns]'), 'time[ns]', encode_time, decode_time)"
   ]
  },
  {
   "cell_type": "markdown",
   "metadata": {},
   "source": [
    "## Binary Arrays"
   ]
  },
  {
   "cell_type": "markdown",
   "metadata": {},
   "source": [
    "### Opaque"
   ]
  },
  {
   "cell_type": "code",
   "execution_count": 33,
   "metadata": {},
   "outputs": [],
   "source": [
    "def encode_opaque(data, mask, *args):\n",
    "    return {\n",
    "        DATA: compress(b''.join(data)),\n",
    "        MASK: encode_mask(mask),\n",
    "        TYPE: 'opaque',\n",
    "        PARAM: len(data[0]),\n",
    "    }"
   ]
  },
  {
   "cell_type": "code",
   "execution_count": 34,
   "metadata": {},
   "outputs": [],
   "source": [
    "def decode_opaque(doc):\n",
    "    data = decompress(doc[DATA], f'|S{doc[PARAM]}')\n",
    "    mask = decode_mask(doc[MASK], len(data))\n",
    "    \n",
    "    return data, mask"
   ]
  },
  {
   "cell_type": "code",
   "execution_count": 35,
   "metadata": {},
   "outputs": [
    {
     "name": "stdout",
     "output_type": "stream",
     "text": [
      "\n",
      "Orignal Data\n",
      "\n",
      "data: [b'abc', b'def', b'ghi']\n",
      "mask: [ True False False]\n",
      "type: opaque\n",
      "\n",
      "Encoded Document\n",
      "\n",
      "{\n",
      "    \"d\": {\n",
      "        \"$binary\": {\n",
      "            \"base64\": \"CQAAAJBhYmNkZWZnaGk=\",\n",
      "            \"subType\": \"00\"\n",
      "        }\n",
      "    },\n",
      "    \"m\": {\n",
      "        \"$binary\": {\n",
      "            \"base64\": \"AQAAABCA\",\n",
      "            \"subType\": \"00\"\n",
      "        }\n",
      "    },\n",
      "    \"t\": \"opaque\",\n",
      "    \"p\": {\n",
      "        \"$numberInt\": \"3\"\n",
      "    }\n",
      "}\n",
      "\n",
      "Decoded Data\n",
      "\n",
      "data: [b'abc' b'def' b'ghi']\n",
      "mask: [ True False False]\n",
      "\n"
     ]
    }
   ],
   "source": [
    "test([b'abc', b'def', b'ghi'], 'opaque', encode_opaque, decode_opaque)"
   ]
  },
  {
   "cell_type": "markdown",
   "metadata": {},
   "source": [
    "### Bytes and String"
   ]
  },
  {
   "cell_type": "code",
   "execution_count": 36,
   "metadata": {},
   "outputs": [],
   "source": [
    "def encode_binary(data, mask, dtype):\n",
    "    if dtype == 'utf8':\n",
    "        data = [v.encode('utf8') for v in data]\n",
    "\n",
    "    values = b''.join(data)\n",
    "    counts = [0] + [len(v) for v in data]\n",
    "    \n",
    "    return {\n",
    "        DATA: compress(values),\n",
    "        MASK: encode_mask(mask),\n",
    "        TYPE: dtype,\n",
    "        OFFSET: compress(numpy.array(counts, dtype=numpy.int32)),\n",
    "    }"
   ]
  },
  {
   "cell_type": "code",
   "execution_count": 37,
   "metadata": {},
   "outputs": [],
   "source": [
    "def decode_binary(doc):\n",
    "    values = decompress(doc[DATA], 'raw')\n",
    "    counts = decompress(doc[OFFSET], numpy.int32)\n",
    "    offsets = numpy.cumsum(counts)\n",
    "    n = len(offsets) - 1\n",
    "\n",
    "    data = [values[offsets[i]:offsets[i + 1]] for i in range(n)]\n",
    "\n",
    "    if doc[TYPE] == 'utf8':\n",
    "        data = [v.decode('utf8') for v in data]\n",
    "\n",
    "    mask = decode_mask(doc[MASK], len(data))\n",
    "    \n",
    "    return data, mask"
   ]
  },
  {
   "cell_type": "code",
   "execution_count": 38,
   "metadata": {},
   "outputs": [
    {
     "name": "stdout",
     "output_type": "stream",
     "text": [
      "\n",
      "Orignal Data\n",
      "\n",
      "data: [b'abc', b'defgh', b'ijk']\n",
      "mask: [ True False False]\n",
      "type: bytes\n",
      "\n",
      "Encoded Document\n",
      "\n",
      "{\n",
      "    \"d\": {\n",
      "        \"$binary\": {\n",
      "            \"base64\": \"CwAAALBhYmNkZWZnaGlqaw==\",\n",
      "            \"subType\": \"00\"\n",
      "        }\n",
      "    },\n",
      "    \"m\": {\n",
      "        \"$binary\": {\n",
      "            \"base64\": \"AQAAABCA\",\n",
      "            \"subType\": \"00\"\n",
      "        }\n",
      "    },\n",
      "    \"t\": \"bytes\",\n",
      "    \"o\": {\n",
      "        \"$binary\": {\n",
      "            \"base64\": \"EAAAAPABAAAAAAMAAAAFAAAAAwAAAA==\",\n",
      "            \"subType\": \"00\"\n",
      "        }\n",
      "    }\n",
      "}\n",
      "\n",
      "Decoded Data\n",
      "\n",
      "data: [b'abc', b'defgh', b'ijk']\n",
      "mask: [ True False False]\n",
      "\n"
     ]
    }
   ],
   "source": [
    "test([b'abc', b'defgh', b'ijk'], 'bytes', encode_binary, decode_binary)"
   ]
  },
  {
   "cell_type": "code",
   "execution_count": 39,
   "metadata": {},
   "outputs": [
    {
     "name": "stdout",
     "output_type": "stream",
     "text": [
      "\n",
      "Orignal Data\n",
      "\n",
      "data: ['abc', 'Ωåß√']\n",
      "mask: [ True False]\n",
      "type: utf8\n",
      "\n",
      "Encoded Document\n",
      "\n",
      "{\n",
      "    \"d\": {\n",
      "        \"$binary\": {\n",
      "            \"base64\": \"DAAAAMBhYmPOqcOlw5/iiJo=\",\n",
      "            \"subType\": \"00\"\n",
      "        }\n",
      "    },\n",
      "    \"m\": {\n",
      "        \"$binary\": {\n",
      "            \"base64\": \"AQAAABCA\",\n",
      "            \"subType\": \"00\"\n",
      "        }\n",
      "    },\n",
      "    \"t\": \"utf8\",\n",
      "    \"o\": {\n",
      "        \"$binary\": {\n",
      "            \"base64\": \"DAAAAMAAAAAAAwAAAAkAAAA=\",\n",
      "            \"subType\": \"00\"\n",
      "        }\n",
      "    }\n",
      "}\n",
      "\n",
      "Decoded Data\n",
      "\n",
      "data: ['abc', 'Ωåß√']\n",
      "mask: [ True False]\n",
      "\n"
     ]
    }
   ],
   "source": [
    "test(['abc', 'Ωåß√'], 'utf8', encode_binary, decode_binary)"
   ]
  },
  {
   "cell_type": "markdown",
   "metadata": {},
   "source": [
    "## Nested Arrays"
   ]
  },
  {
   "cell_type": "code",
   "execution_count": 40,
   "metadata": {},
   "outputs": [],
   "source": [
    "class ListType():\n",
    "    def __init__(self, dtype):\n",
    "        self.value_type = dtype\n",
    "        \n",
    "    def __str__(self):\n",
    "        return f'list<{str(self.value_type)}>'"
   ]
  },
  {
   "cell_type": "code",
   "execution_count": 41,
   "metadata": {},
   "outputs": [],
   "source": [
    "class Field():\n",
    "    def __init__(self, name, dtype):\n",
    "        self.name = name\n",
    "        self.type = dtype\n",
    "        \n",
    "    def __str__(self):\n",
    "        return f'{self.name}: {str(self.type)}'"
   ]
  },
  {
   "cell_type": "code",
   "execution_count": 42,
   "metadata": {},
   "outputs": [],
   "source": [
    "class StructType():\n",
    "    def __init__(self, fields):\n",
    "        self.fields = fields\n",
    "        \n",
    "    def __str__(self):\n",
    "        return str([str(v) for v in self.fields])"
   ]
  },
  {
   "cell_type": "code",
   "execution_count": 43,
   "metadata": {},
   "outputs": [],
   "source": [
    "class DictionaryType():\n",
    "    def __init__(self, index_type, value_type, ordered):\n",
    "        self.index_type = index_type\n",
    "        self.value_type = value_type\n",
    "        self.ordered = orderded\n",
    "        \n",
    "    def __str__(self):\n",
    "        if self.ordered:\n",
    "            return f'ordered<{str(self.index_type)}, {str(self.value_type)}>'\n",
    "        else:\n",
    "            return f'factor<{str(self.index_type)}, {str(self.value_type)}>'"
   ]
  },
  {
   "cell_type": "code",
   "execution_count": 44,
   "metadata": {},
   "outputs": [],
   "source": [
    "def encode_array(data, mask, dtype):\n",
    "    if dtype == 'null':\n",
    "        return encode_null(data, mask, dtype)\n",
    "    if dtype == 'bool':\n",
    "        return encode_bool(data, mask, dtype)\n",
    "    if dtype in NUMERIC_TYPES:\n",
    "        return encode_numeric(data, mask, dtype)\n",
    "    if dtype in DATE_TYPES:\n",
    "        return encode_date(data, mask, dtype)\n",
    "    if dtype in TIMESTAMP_TYPES:\n",
    "        return encode_timestamp(data, mask, dtype)\n",
    "    if dtype in TIME_TYEPS:\n",
    "        return encode_time(data, mask, dtype)\n",
    "    if isinstance(dtype, ListType):\n",
    "        return encode_list(data, mask, dtype)\n",
    "    if isinstance(dtype, StructType):\n",
    "        return encode_struct(data, mask, dtype)\n",
    "    if isinstance(dtype, DictionaryType):\n",
    "        return encode_dictionary(data, mask, dtype)\n",
    "    raise ValueError(f'Unknown type {dtype}')"
   ]
  },
  {
   "cell_type": "code",
   "execution_count": 45,
   "metadata": {},
   "outputs": [],
   "source": [
    "def decode_array(doc):\n",
    "    dtype = doc[TYPE]\n",
    "    if dtype == 'null':\n",
    "        return decode_null(doc)\n",
    "    if dtype == 'bool':\n",
    "        return decode_bool(doc)\n",
    "    if dtype in NUMERIC_TYPES:\n",
    "        return decode_numeric(doc)\n",
    "    if dtype in DATE_TYPES:\n",
    "        return decode_date(doc)\n",
    "    if dtype in TIMESTAMP_TYPES:\n",
    "        return decode_timestamp(doc)\n",
    "    if dtype in TIME_TYEPS:\n",
    "        return decode_time(doc)\n",
    "    if isinstance(dtype, ListType):\n",
    "        return decode_list(doc)\n",
    "    if isinstance(dtype, StructType):\n",
    "        return decode_struct(ddoc)\n",
    "    if isinstance(dtype, DictionaryType):\n",
    "        return decode_dictionary(doc)\n",
    "    raise ValueError(f'Unknown type {dtype}')"
   ]
  },
  {
   "cell_type": "markdown",
   "metadata": {},
   "source": [
    "### List"
   ]
  },
  {
   "cell_type": "code",
   "execution_count": 46,
   "metadata": {},
   "outputs": [],
   "source": [
    "def encode_list(data, mask, dtype):\n",
    "    values = numpy.concatenate(data)\n",
    "    counts = [0] + [len(v) for v in data]\n",
    "    vmask = numpy.ones(len(data), dtype=bool)\n",
    "    data_doc = encode_array(values, vmask, dtype.value_type)\n",
    "    \n",
    "    return {\n",
    "        DATA: data_doc,\n",
    "        MASK: encode_mask(mask),\n",
    "        TYPE: 'list',\n",
    "        PARAM: extract_type(data_doc),\n",
    "        OFFSET: compress(numpy.array(counts, dtype=numpy.int32)),\n",
    "    }"
   ]
  },
  {
   "cell_type": "code",
   "execution_count": 47,
   "metadata": {},
   "outputs": [],
   "source": [
    "def decode_list(doc):\n",
    "    values, vmask = decode_array(doc[DATA])\n",
    "    counts = decompress(doc[OFFSET], numpy.int32)\n",
    "    offsets = numpy.cumsum(counts)\n",
    "    n = len(offsets) - 1\n",
    "\n",
    "    data = [values[offsets[i]:offsets[i + 1]] for i in range(n)]\n",
    "    mask = decode_mask(doc[MASK], len(data))\n",
    "\n",
    "    return data, mask"
   ]
  },
  {
   "cell_type": "code",
   "execution_count": 48,
   "metadata": {},
   "outputs": [
    {
     "name": "stdout",
     "output_type": "stream",
     "text": [
      "\n",
      "Orignal Data\n",
      "\n",
      "data: [array([1, 2, 3]), array([4, 5])]\n",
      "mask: [ True False]\n",
      "type: list<int64>\n",
      "\n",
      "Encoded Document\n",
      "\n",
      "{\n",
      "    \"d\": {\n",
      "        \"d\": {\n",
      "            \"$binary\": {\n",
      "                \"base64\": \"KAAAACIBAAEAEgIHACMAAwgAEwQIAIAFAAAAAAAAAA==\",\n",
      "                \"subType\": \"00\"\n",
      "            }\n",
      "        },\n",
      "        \"m\": {\n",
      "            \"$binary\": {\n",
      "                \"base64\": \"AQAAABDA\",\n",
      "                \"subType\": \"00\"\n",
      "            }\n",
      "        },\n",
      "        \"t\": \"int64\"\n",
      "    },\n",
      "    \"m\": {\n",
      "        \"$binary\": {\n",
      "            \"base64\": \"AQAAABCA\",\n",
      "            \"subType\": \"00\"\n",
      "        }\n",
      "    },\n",
      "    \"t\": \"list\",\n",
      "    \"p\": {\n",
      "        \"t\": \"int64\"\n",
      "    },\n",
      "    \"o\": {\n",
      "        \"$binary\": {\n",
      "            \"base64\": \"DAAAAMAAAAAAAwAAAAIAAAA=\",\n",
      "            \"subType\": \"00\"\n",
      "        }\n",
      "    }\n",
      "}\n",
      "\n",
      "Decoded Data\n",
      "\n",
      "data: [array([1, 2, 3]), array([4, 5])]\n",
      "mask: [ True False]\n",
      "\n"
     ]
    }
   ],
   "source": [
    "test([numpy.array([1, 2, 3]), numpy.array([4, 5])], ListType('int64'), encode_list, decode_list)"
   ]
  },
  {
   "cell_type": "markdown",
   "metadata": {},
   "source": [
    "### Struct"
   ]
  },
  {
   "cell_type": "code",
   "execution_count": 49,
   "metadata": {},
   "outputs": [],
   "source": [
    "def encode_struct(data, mask, dtype):\n",
    "    names = list()\n",
    "    types = dict()\n",
    "    values = dict()\n",
    "    for field in dtype.fields:\n",
    "        names.append(field.name)\n",
    "        types[field.name] = field.type\n",
    "        values[field.name] = [v[field.name] for v in data]\n",
    "    \n",
    "    fields_doc = dict({k: encode_array(values[k], mask, types[k]) for k in names})\n",
    "    data_doc = {LENGTH: len(data), FIELDS: fields_doc}\n",
    "    \n",
    "    param_doc = [extract_type(fields_doc[k]) for k in names]\n",
    "    for k, v in zip(names, param_doc):\n",
    "        v[NAME] = k\n",
    "    \n",
    "    return {\n",
    "        DATA: data_doc,\n",
    "        MASK: encode_mask(mask),\n",
    "        TYPE: 'struct',\n",
    "        PARAM: param_doc,\n",
    "    }"
   ]
  },
  {
   "cell_type": "code",
   "execution_count": 50,
   "metadata": {},
   "outputs": [],
   "source": [
    "def decode_struct(doc):\n",
    "    values = dict({k: decode_array(v)[0] for k, v in doc[DATA][FIELDS].items()})\n",
    "\n",
    "    data = [{}] * doc[DATA][LENGTH]\n",
    "    print(data)\n",
    "    for k, v in values.items():\n",
    "        for i, u in enumerate(v):\n",
    "            print((i, k, u))\n",
    "            data[i][k] = u\n",
    "            print(data)\n",
    "    print(data)\n",
    "\n",
    "    mask = decode_mask(doc[MASK], len(data))\n",
    "    \n",
    "    return data, mask"
   ]
  },
  {
   "cell_type": "code",
   "execution_count": 51,
   "metadata": {},
   "outputs": [
    {
     "name": "stdout",
     "output_type": "stream",
     "text": [
      "[{}, {}]\n",
      "(0, 'x', 1)\n",
      "[{'x': 1}, {'x': 1}]\n",
      "(1, 'x', 3)\n",
      "[{'x': 3}, {'x': 3}]\n",
      "(0, 'y', 2.2)\n",
      "[{'x': 3, 'y': 2.2}, {'x': 3, 'y': 2.2}]\n",
      "(1, 'y', 4.4)\n",
      "[{'x': 3, 'y': 4.4}, {'x': 3, 'y': 4.4}]\n",
      "[{'x': 3, 'y': 4.4}, {'x': 3, 'y': 4.4}]\n",
      "\n",
      "Orignal Data\n",
      "\n",
      "data: [{'x': 1, 'y': 2.2}, {'x': 3, 'y': 4.4}]\n",
      "mask: [ True False]\n",
      "type: ['x: int64', 'y: float64']\n",
      "\n",
      "Encoded Document\n",
      "\n",
      "{\n",
      "    \"d\": {\n",
      "        \"l\": {\n",
      "            \"$numberInt\": \"2\"\n",
      "        },\n",
      "        \"f\": {\n",
      "            \"x\": {\n",
      "                \"d\": {\n",
      "                    \"$binary\": {\n",
      "                        \"base64\": \"EAAAACIBAAEAgAMAAAAAAAAA\",\n",
      "                        \"subType\": \"00\"\n",
      "                    }\n",
      "                },\n",
      "                \"m\": {\n",
      "                    \"$binary\": {\n",
      "                        \"base64\": \"AQAAABCA\",\n",
      "                        \"subType\": \"00\"\n",
      "                    }\n",
      "                },\n",
      "                \"t\": \"int64\"\n",
      "            },\n",
      "            \"y\": {\n",
      "                \"d\": {\n",
      "                    \"$binary\": {\n",
      "                        \"base64\": \"EAAAAPABmpmZmZmZAUCamZmZmZkRQA==\",\n",
      "                        \"subType\": \"00\"\n",
      "                    }\n",
      "                },\n",
      "                \"m\": {\n",
      "                    \"$binary\": {\n",
      "                        \"base64\": \"AQAAABCA\",\n",
      "                        \"subType\": \"00\"\n",
      "                    }\n",
      "                },\n",
      "                \"t\": \"float64\"\n",
      "            }\n",
      "        }\n",
      "    },\n",
      "    \"m\": {\n",
      "        \"$binary\": {\n",
      "            \"base64\": \"AQAAABCA\",\n",
      "            \"subType\": \"00\"\n",
      "        }\n",
      "    },\n",
      "    \"t\": \"struct\",\n",
      "    \"p\": [\n",
      "        {\n",
      "            \"t\": \"int64\",\n",
      "            \"n\": \"x\"\n",
      "        },\n",
      "        {\n",
      "            \"t\": \"float64\",\n",
      "            \"n\": \"y\"\n",
      "        }\n",
      "    ]\n",
      "}\n",
      "\n",
      "Decoded Data\n",
      "\n",
      "data: [{'x': 3, 'y': 4.4}, {'x': 3, 'y': 4.4}]\n",
      "mask: [ True False]\n",
      "\n"
     ]
    }
   ],
   "source": [
    "test([{'x': 1, 'y': 2.2}, {'x': 3, 'y': 4.4}], StructType([Field('x', 'int64'), Field('y', 'float64')]), encode_struct, decode_struct)"
   ]
  },
  {
   "cell_type": "markdown",
   "metadata": {},
   "source": [
    "### Dictionary"
   ]
  },
  {
   "cell_type": "code",
   "execution_count": null,
   "metadata": {},
   "outputs": [],
   "source": []
  }
 ],
 "metadata": {
  "kernelspec": {
   "display_name": "Python 3",
   "language": "python",
   "name": "python3"
  },
  "language_info": {
   "codemirror_mode": {
    "name": "ipython",
    "version": 3
   },
   "file_extension": ".py",
   "mimetype": "text/x-python",
   "name": "python",
   "nbconvert_exporter": "python",
   "pygments_lexer": "ipython3",
   "version": "3.7.4"
  }
 },
 "nbformat": 4,
 "nbformat_minor": 4
}
